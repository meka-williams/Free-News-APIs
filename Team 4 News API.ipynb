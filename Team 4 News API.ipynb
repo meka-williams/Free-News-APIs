{
  "cells": [
    {
      "cell_type": "markdown",
      "metadata": {
        "id": "view-in-github",
        "colab_type": "text"
      },
      "source": [
        "<a href=\"https://colab.research.google.com/github/meka-williams/Free-News-APIs/blob/main/Team%204%20News%20API.ipynb\" target=\"_parent\"><img src=\"https://colab.research.google.com/assets/colab-badge.svg\" alt=\"Open In Colab\"/></a>"
      ]
    },
    {
      "cell_type": "markdown",
      "metadata": {
        "id": "q7mfnDUOUJCb"
      },
      "source": [
        "# Mini Project: Retrieving and Storing News Articles from Free News APIs\n",
        "Authors: Payal Moorti & Shameka Williams\n",
        "\n",
        "[GitHub Respository](https://github.com/meka-williams/Free-News-APIs.git)\n",
        "\n",
        "**Project Objectives**\n",
        "1. Understand how to interact with public APIs to retrieve data\n",
        "2. Learn to process, filter, and store large-scale textual data\n",
        "3. Gain hands-on experince integrating web mining techniques with cloud storage solutions\n",
        "4. Develop team collaboration and project management skills\n",
        "\n",
        "**Project Description**\n",
        "Each team will focus on retrieving news articles using a designated free API from the provided list. Teams will extract, clean, and store the data into a designated S3 bucket on AWS. This project will involve designining efficient workflows for API interaction, data processing, and storage, with documentation for reproducibility."
      ]
    },
    {
      "cell_type": "markdown",
      "source": [
        "# Project Milestones and Timeline\n",
        "\n",
        "* Week 1: Project Setup and API Familiarization\n",
        "* Week 2: Data Retrieval and Preprocessing\n",
        "* Week 3: Storing Data in S3\n",
        "* Week 4: Final Presentation and Reporting"
      ],
      "metadata": {
        "id": "J2d4xsIQVuH1"
      }
    },
    {
      "cell_type": "code",
      "execution_count": 1,
      "metadata": {
        "id": "idLRiFpwb_nu"
      },
      "outputs": [],
      "source": [
        "import requests\n",
        "import json\n",
        "import google.generativeai as genai\n",
        "from google.colab import userdata\n",
        "import pprint\n",
        "from google import genai\n",
        "\n",
        "news_key=userdata.get(\"CURRENT_KEY\")\n",
        "gemma=userdata.get(\"GOOGLE_API_KEY\")"
      ]
    },
    {
      "cell_type": "code",
      "execution_count": 2,
      "metadata": {
        "id": "OzxDUyE2dkrn"
      },
      "outputs": [],
      "source": [
        "# Create Gemini client\n",
        "client = genai.Client(api_key=gemma)\n",
        "\n",
        "#utility method to talk the Gemini\n",
        "def get_response(prompt, model='gemini-2.0-flash-lite'):\n",
        "    response = client.models.generate_content(\n",
        "        model=model,\n",
        "        contents=prompt\n",
        "    )\n",
        "    return response.text"
      ]
    },
    {
      "cell_type": "code",
      "execution_count": 3,
      "metadata": {
        "colab": {
          "base_uri": "https://localhost:8080/",
          "height": 139
        },
        "id": "OAZayB9BgIbW",
        "outputId": "39024ad0-5e1c-4d53-9a58-20a30deefee3"
      },
      "outputs": [
        {
          "output_type": "execute_result",
          "data": {
            "text/plain": [
              "'A zero-shot prompt is a type of prompt used with large language models (LLMs) where the model is asked to perform a task without being explicitly trained on that specific task or provided with any examples beforehand. It\\'s like giving the model a task and expecting it to figure out how to do it based solely on its pre-existing knowledge and understanding of language.\\n\\nHere\\'s a breakdown:\\n\\n*   **Zero-shot:** The model hasn\\'t \"seen\" (or been trained on) examples related to the task it\\'s being asked to do.\\n*   **Prompt:** This is the instruction or question given to the LLM. It\\'s the input that guides the model\\'s response.\\n\\n**How it Works:**\\n\\nLLMs are trained on massive datasets of text and code. This pre-training allows them to:\\n\\n*   Understand language structure and grammar.\\n*   Identify relationships between words and concepts.\\n*   Recognize patterns in text.\\n*   Have a broad understanding of the world based on the data they were trained on.\\n\\nWhen given a zero-shot prompt, the LLM uses this pre-existing knowledge to try and figure out the task at hand and generate a relevant response.\\n\\n**Examples:**\\n\\n*   **Task: Translate English to French**\\n    *   **Prompt:** \"Translate the following sentence to French: \\'The cat sat on the mat.\\'\"\\n*   **Task: Sentiment Analysis**\\n    *   **Prompt:** \"Determine the sentiment of the following sentence: \\'This movie was absolutely fantastic!\\'\"\\n*   **Task: Summarization**\\n    *   **Prompt:** \"Summarize the following article: [Insert article text here]\"\\n*   **Task: Code Generation**\\n    *   **Prompt:** \"Write a Python function to calculate the factorial of a number.\"\\n*   **Task: Common Sense Reasoning**\\n    *   **Prompt:** \"The sky is blue because...\"\\n\\n**Advantages of Zero-Shot Learning:**\\n\\n*   **Versatility:**  You can quickly try out a wide range of tasks without needing to create and curate specific training datasets.\\n*   **Efficiency:** It avoids the time and effort required to train models for each new task.\\n*   **Flexibility:** It\\'s adaptable to tasks the model wasn\\'t specifically designed for.\\n\\n**Limitations of Zero-Shot Learning:**\\n\\n*   **Performance:** The accuracy and quality of the responses can be lower than those of models trained specifically on the task.\\n*   **Understanding Nuances:** LLMs might struggle with complex reasoning or understanding the subtleties of specific domains if they haven\\'t been exposed to them during training.\\n*   **Contextual Understanding:** The model\\'s ability to correctly interpret the prompt and provide a contextually relevant answer can sometimes be limited.\\n\\n**In summary, zero-shot prompting is a powerful technique for leveraging the general knowledge of LLMs, but it\\'s important to be aware of its potential limitations.**  It\\'s often used as a starting point, and the performance can be improved through techniques like few-shot learning or fine-tuning, depending on the specific application.\\n'"
            ],
            "application/vnd.google.colaboratory.intrinsic+json": {
              "type": "string"
            }
          },
          "metadata": {},
          "execution_count": 3
        }
      ],
      "source": [
        "#testing get_response\n",
        "get_response(\"What is a zero shot prompt?\")"
      ]
    },
    {
      "cell_type": "code",
      "source": [
        "def get_news_articles(api_key, keywords='Health', language='en', page_size=150):\n",
        "   # Retrieves news articles from the Currents API based on the provided parameters.\n",
        "    url = f'https://api.currentsapi.services/v1/search?keywords={keywords}&language={language}&page_size={page_size}&apiKey={api_key}'\n",
        "    response = requests.get(url)\n",
        "    data = response.json()\n",
        "\n",
        "    print(f\"Total Results: {len(data.get('news', []))}\")  # Access 'news' from JSON data\n",
        "\n",
        "    return data\n",
        "\n",
        "# Example usage\n",
        "news_data = get_news_articles(news_key)"
      ],
      "metadata": {
        "id": "Ka1iQsaiXxVu",
        "outputId": "38b4e741-146a-484e-ff13-f6251cb8edc9",
        "colab": {
          "base_uri": "https://localhost:8080/"
        }
      },
      "execution_count": 32,
      "outputs": [
        {
          "output_type": "stream",
          "name": "stdout",
          "text": [
            "Total Results: 150\n"
          ]
        }
      ]
    },
    {
      "cell_type": "code",
      "execution_count": 36,
      "metadata": {
        "colab": {
          "base_uri": "https://localhost:8080/"
        },
        "id": "p3eOE_nMmTW8",
        "outputId": "53197dc9-572f-4988-d63b-777aea03e024"
      },
      "outputs": [
        {
          "output_type": "stream",
          "name": "stdout",
          "text": [
            "{'author': 'Author Raman Pathik',\n",
            " 'category': ['company'],\n",
            " 'description': \"Now is the time to take a 'You-Turn' away from sickness \"\n",
            "                'towards happy emotional health... Post this\\n'\n",
            "                '\\n'\n",
            "                '\"Young people, especially, are under so much pressure and '\n",
            "                'experience an unprecedented level of anxi...',\n",
            " 'id': '75ef17f8-ec9f-4d96-ade6-6292f785a58c',\n",
            " 'image': 'https://mma.prnewswire.com/media/2629752/cover.jpg?p=facebook',\n",
            " 'language': 'en',\n",
            " 'published': '2025-03-10 12:00:00 +0000',\n",
            " 'title': \"Simple Solution Expert Brings Latest in Transforming One's Life and \"\n",
            "          'Reducing Stress',\n",
            " 'url': 'https://www.prweb.com/releases/simple-solution-expert-brings-latest-in-transforming-ones-life-and-reducing-stress-302392819.html'}\n"
          ]
        }
      ],
      "source": [
        "#display sample article\n",
        "pprint.pprint(news_data['news'][60])"
      ]
    },
    {
      "cell_type": "code",
      "execution_count": 35,
      "metadata": {
        "colab": {
          "base_uri": "https://localhost:8080/"
        },
        "id": "nNItPSZUulxi",
        "outputId": "5613f3fd-641f-4063-c48b-f1afc715db0a"
      },
      "outputs": [
        {
          "output_type": "stream",
          "name": "stdout",
          "text": [
            "Starting preprocessing on 150 articles\n",
            "\n",
            "Original article keys:\n",
            "['author', 'category', 'description', 'id', 'image', 'language', 'published', 'title', 'url']\n",
            "Total articles after preprocessing: 150\n",
            "\n",
            "Original article:\n",
            "{'author': 'Author Raman Pathik',\n",
            " 'category': ['company'],\n",
            " 'description': \"Now is the time to take a 'You-Turn' away from sickness \"\n",
            "                'towards happy emotional health... Post this\\n'\n",
            "                '\\n'\n",
            "                '\"Young people, especially, are under so much pressure and '\n",
            "                'experience an unprecedented level of anxi...',\n",
            " 'id': '75ef17f8-ec9f-4d96-ade6-6292f785a58c',\n",
            " 'image': 'https://mma.prnewswire.com/media/2629752/cover.jpg?p=facebook',\n",
            " 'language': 'en',\n",
            " 'published': '2025-03-10 12:00:00 +0000',\n",
            " 'title': \"Simple Solution Expert Brings Latest in Transforming One's Life and \"\n",
            "          'Reducing Stress',\n",
            " 'url': 'https://www.prweb.com/releases/simple-solution-expert-brings-latest-in-transforming-ones-life-and-reducing-stress-302392819.html'}\n",
            "\n",
            "Preprocessed article:\n",
            "{'author': 'Author Raman Pathik',\n",
            " 'category': ['company'],\n",
            " 'description': \"Now is the time to take a 'You-Turn' away from sickness \"\n",
            "                'towards happy emotional health... Post this\\n'\n",
            "                '\\n'\n",
            "                '\"Young people, especially, are under so much pressure and '\n",
            "                'experience an unprecedented level of anxi...',\n",
            " 'id': '75ef17f8-ec9f-4d96-ade6-6292f785a58c',\n",
            " 'image': 'https://mma.prnewswire.com/media/2629752/cover.jpg?p=facebook',\n",
            " 'language': 'en',\n",
            " 'published': '2025-03-10 12:00:00 +0000',\n",
            " 'title': 'PROCESSED: Simple Solution Expert Brings Latest in Transforming '\n",
            "          \"One's Life and Reducing Stress\",\n",
            " 'url': 'https://www.prweb.com/releases/simple-solution-expert-brings-latest-in-transforming-ones-life-and-reducing-stress-302392819.html'}\n"
          ]
        }
      ],
      "source": [
        "#preprocessing retrieved articles: handling duplicates and missing data\n",
        "def preprocess_articles(articles):\n",
        "    print(f\"Starting preprocessing on {len(articles)} articles\")\n",
        "    original_article = news_data.get('news', [])[90]\n",
        "    print(\"\\nOriginal article keys:\")\n",
        "    print(sorted(original_article.keys()))\n",
        "\n",
        "    seen_urls = set()\n",
        "    preprocessed_articles = []\n",
        "    for article in articles:\n",
        "      #skip articles without url\n",
        "        url = article.get('url')\n",
        "        if not url:\n",
        "            continue\n",
        "        #skip duplicate urls\n",
        "        if url in seen_urls:\n",
        "            continue\n",
        "        seen_urls.add(url)\n",
        "        processed_article = {\n",
        "            \"id\": article.get(\"id\", \"\"),\n",
        "            \"title\": \"PROCESSED: \" + article.get(\"title\", \"No title available\"),  # Add a prefix to verify\n",
        "            \"description\": article.get(\"description\", \"No description available\"),\n",
        "            \"url\": url,\n",
        "            \"author\": article.get(\"author\", \"Unknown\"),\n",
        "            \"image\": article.get(\"image\", \"\"),\n",
        "            \"language\": article.get(\"language\", \"en\"),\n",
        "            \"category\": article.get(\"category\", []),\n",
        "            \"published\": article.get(\"published\", \"na\"),\n",
        "        }\n",
        "        # Skip articles with empty titles and descriptions (both missing)\n",
        "        if processed_article[\"title\"] == \"No title available\" and processed_article[\"description\"] == \"No description available\":\n",
        "            continue\n",
        "        preprocessed_articles.append(processed_article)\n",
        "    return preprocessed_articles\n",
        "\n",
        "processed_data = preprocess_articles(news_data.get('news', []))\n",
        "\n",
        "print(f\"Total articles after preprocessing: {len(processed_data)}\")\n",
        "\n",
        "#print sample original article\n",
        "print(\"\\nOriginal article:\")\n",
        "pprint.pprint(news_data.get('news', [])[60])\n",
        "\n",
        "#print sample preprocessed article\n",
        "print(\"\\nPreprocessed article:\")\n",
        "pprint.pprint(processed_data[60])"
      ]
    },
    {
      "cell_type": "code",
      "source": [
        "!pip install boto3"
      ],
      "metadata": {
        "id": "qHyf8gHJY8tB",
        "outputId": "82d314ff-93b3-43a0-c5d7-a0f0170cb8db",
        "colab": {
          "base_uri": "https://localhost:8080/"
        }
      },
      "execution_count": 7,
      "outputs": [
        {
          "output_type": "stream",
          "name": "stdout",
          "text": [
            "Collecting boto3\n",
            "  Downloading boto3-1.37.9-py3-none-any.whl.metadata (6.6 kB)\n",
            "Collecting botocore<1.38.0,>=1.37.9 (from boto3)\n",
            "  Downloading botocore-1.37.9-py3-none-any.whl.metadata (5.7 kB)\n",
            "Collecting jmespath<2.0.0,>=0.7.1 (from boto3)\n",
            "  Downloading jmespath-1.0.1-py3-none-any.whl.metadata (7.6 kB)\n",
            "Collecting s3transfer<0.12.0,>=0.11.0 (from boto3)\n",
            "  Downloading s3transfer-0.11.4-py3-none-any.whl.metadata (1.7 kB)\n",
            "Requirement already satisfied: python-dateutil<3.0.0,>=2.1 in /usr/local/lib/python3.11/dist-packages (from botocore<1.38.0,>=1.37.9->boto3) (2.8.2)\n",
            "Requirement already satisfied: urllib3!=2.2.0,<3,>=1.25.4 in /usr/local/lib/python3.11/dist-packages (from botocore<1.38.0,>=1.37.9->boto3) (2.3.0)\n",
            "Requirement already satisfied: six>=1.5 in /usr/local/lib/python3.11/dist-packages (from python-dateutil<3.0.0,>=2.1->botocore<1.38.0,>=1.37.9->boto3) (1.17.0)\n",
            "Downloading boto3-1.37.9-py3-none-any.whl (139 kB)\n",
            "\u001b[2K   \u001b[90m━━━━━━━━━━━━━━━━━━━━━━━━━━━━━━━━━━━━━━━━\u001b[0m \u001b[32m139.5/139.5 kB\u001b[0m \u001b[31m3.1 MB/s\u001b[0m eta \u001b[36m0:00:00\u001b[0m\n",
            "\u001b[?25hDownloading botocore-1.37.9-py3-none-any.whl (13.4 MB)\n",
            "\u001b[2K   \u001b[90m━━━━━━━━━━━━━━━━━━━━━━━━━━━━━━━━━━━━━━━━\u001b[0m \u001b[32m13.4/13.4 MB\u001b[0m \u001b[31m92.4 MB/s\u001b[0m eta \u001b[36m0:00:00\u001b[0m\n",
            "\u001b[?25hDownloading jmespath-1.0.1-py3-none-any.whl (20 kB)\n",
            "Downloading s3transfer-0.11.4-py3-none-any.whl (84 kB)\n",
            "\u001b[2K   \u001b[90m━━━━━━━━━━━━━━━━━━━━━━━━━━━━━━━━━━━━━━━━\u001b[0m \u001b[32m84.4/84.4 kB\u001b[0m \u001b[31m6.2 MB/s\u001b[0m eta \u001b[36m0:00:00\u001b[0m\n",
            "\u001b[?25hInstalling collected packages: jmespath, botocore, s3transfer, boto3\n",
            "Successfully installed boto3-1.37.9 botocore-1.37.9 jmespath-1.0.1 s3transfer-0.11.4\n"
          ]
        }
      ]
    },
    {
      "cell_type": "code",
      "source": [
        "import os\n",
        "import boto3\n",
        "from botocore.config import Config\n",
        "from botocore import UNSIGNED"
      ],
      "metadata": {
        "id": "9C8Hm3eEZdDo"
      },
      "execution_count": 8,
      "outputs": []
    },
    {
      "cell_type": "code",
      "source": [
        "TEAM = \"TEAM_4/\"\n",
        "BUCKET_NAME = \"cus635-spring2025\"\n",
        "\n",
        "s3 = boto3.client('s3', config=Config(signature_version=UNSIGNED))"
      ],
      "metadata": {
        "id": "J6_9c0QLZp0Z"
      },
      "execution_count": 9,
      "outputs": []
    },
    {
      "cell_type": "code",
      "source": [
        "file_path = \"/content/sample_data/tmp/\"\n",
        "file_name = \"words.txt\"\n",
        "object_name = file_name\n",
        "\n",
        "s3.upload_file(file_path+file_name, BUCKET_NAME, TEAM+object_name)"
      ],
      "metadata": {
        "id": "7I7vVHbAbs_x",
        "outputId": "5ab7ecb5-fce9-4404-de44-d88f38fa2005",
        "colab": {
          "base_uri": "https://localhost:8080/",
          "height": 235
        }
      },
      "execution_count": 10,
      "outputs": [
        {
          "output_type": "error",
          "ename": "FileNotFoundError",
          "evalue": "[Errno 2] No such file or directory: '/content/sample_data/tmp/words.txt'",
          "traceback": [
            "\u001b[0;31m---------------------------------------------------------------------------\u001b[0m",
            "\u001b[0;31mFileNotFoundError\u001b[0m                         Traceback (most recent call last)",
            "\u001b[0;32m<ipython-input-10-d56da87f7679>\u001b[0m in \u001b[0;36m<cell line: 0>\u001b[0;34m()\u001b[0m\n\u001b[1;32m      3\u001b[0m \u001b[0mobject_name\u001b[0m \u001b[0;34m=\u001b[0m \u001b[0mfile_name\u001b[0m\u001b[0;34m\u001b[0m\u001b[0;34m\u001b[0m\u001b[0m\n\u001b[1;32m      4\u001b[0m \u001b[0;34m\u001b[0m\u001b[0m\n\u001b[0;32m----> 5\u001b[0;31m \u001b[0ms3\u001b[0m\u001b[0;34m.\u001b[0m\u001b[0mupload_file\u001b[0m\u001b[0;34m(\u001b[0m\u001b[0mfile_path\u001b[0m\u001b[0;34m+\u001b[0m\u001b[0mfile_name\u001b[0m\u001b[0;34m,\u001b[0m \u001b[0mBUCKET_NAME\u001b[0m\u001b[0;34m,\u001b[0m \u001b[0mTEAM\u001b[0m\u001b[0;34m+\u001b[0m\u001b[0mobject_name\u001b[0m\u001b[0;34m)\u001b[0m\u001b[0;34m\u001b[0m\u001b[0;34m\u001b[0m\u001b[0m\n\u001b[0m",
            "\u001b[0;32m/usr/local/lib/python3.11/dist-packages/botocore/context.py\u001b[0m in \u001b[0;36mwrapper\u001b[0;34m(*args, **kwargs)\u001b[0m\n\u001b[1;32m    122\u001b[0m                 \u001b[0;32mif\u001b[0m \u001b[0mhook\u001b[0m\u001b[0;34m:\u001b[0m\u001b[0;34m\u001b[0m\u001b[0;34m\u001b[0m\u001b[0m\n\u001b[1;32m    123\u001b[0m                     \u001b[0mhook\u001b[0m\u001b[0;34m(\u001b[0m\u001b[0;34m)\u001b[0m\u001b[0;34m\u001b[0m\u001b[0;34m\u001b[0m\u001b[0m\n\u001b[0;32m--> 124\u001b[0;31m                 \u001b[0;32mreturn\u001b[0m \u001b[0mfunc\u001b[0m\u001b[0;34m(\u001b[0m\u001b[0;34m*\u001b[0m\u001b[0margs\u001b[0m\u001b[0;34m,\u001b[0m \u001b[0;34m**\u001b[0m\u001b[0mkwargs\u001b[0m\u001b[0;34m)\u001b[0m\u001b[0;34m\u001b[0m\u001b[0;34m\u001b[0m\u001b[0m\n\u001b[0m\u001b[1;32m    125\u001b[0m \u001b[0;34m\u001b[0m\u001b[0m\n\u001b[1;32m    126\u001b[0m         \u001b[0;32mreturn\u001b[0m \u001b[0mwrapper\u001b[0m\u001b[0;34m\u001b[0m\u001b[0;34m\u001b[0m\u001b[0m\n",
            "\u001b[0;32m/usr/local/lib/python3.11/dist-packages/boto3/s3/inject.py\u001b[0m in \u001b[0;36mupload_file\u001b[0;34m(self, Filename, Bucket, Key, ExtraArgs, Callback, Config)\u001b[0m\n\u001b[1;32m    168\u001b[0m     \"\"\"\n\u001b[1;32m    169\u001b[0m     \u001b[0;32mwith\u001b[0m \u001b[0mS3Transfer\u001b[0m\u001b[0;34m(\u001b[0m\u001b[0mself\u001b[0m\u001b[0;34m,\u001b[0m \u001b[0mConfig\u001b[0m\u001b[0;34m)\u001b[0m \u001b[0;32mas\u001b[0m \u001b[0mtransfer\u001b[0m\u001b[0;34m:\u001b[0m\u001b[0;34m\u001b[0m\u001b[0;34m\u001b[0m\u001b[0m\n\u001b[0;32m--> 170\u001b[0;31m         return transfer.upload_file(\n\u001b[0m\u001b[1;32m    171\u001b[0m             \u001b[0mfilename\u001b[0m\u001b[0;34m=\u001b[0m\u001b[0mFilename\u001b[0m\u001b[0;34m,\u001b[0m\u001b[0;34m\u001b[0m\u001b[0;34m\u001b[0m\u001b[0m\n\u001b[1;32m    172\u001b[0m             \u001b[0mbucket\u001b[0m\u001b[0;34m=\u001b[0m\u001b[0mBucket\u001b[0m\u001b[0;34m,\u001b[0m\u001b[0;34m\u001b[0m\u001b[0;34m\u001b[0m\u001b[0m\n",
            "\u001b[0;32m/usr/local/lib/python3.11/dist-packages/boto3/s3/transfer.py\u001b[0m in \u001b[0;36mupload_file\u001b[0;34m(self, filename, bucket, key, callback, extra_args)\u001b[0m\n\u001b[1;32m    370\u001b[0m         )\n\u001b[1;32m    371\u001b[0m         \u001b[0;32mtry\u001b[0m\u001b[0;34m:\u001b[0m\u001b[0;34m\u001b[0m\u001b[0;34m\u001b[0m\u001b[0m\n\u001b[0;32m--> 372\u001b[0;31m             \u001b[0mfuture\u001b[0m\u001b[0;34m.\u001b[0m\u001b[0mresult\u001b[0m\u001b[0;34m(\u001b[0m\u001b[0;34m)\u001b[0m\u001b[0;34m\u001b[0m\u001b[0;34m\u001b[0m\u001b[0m\n\u001b[0m\u001b[1;32m    373\u001b[0m         \u001b[0;31m# If a client error was raised, add the backwards compatibility layer\u001b[0m\u001b[0;34m\u001b[0m\u001b[0;34m\u001b[0m\u001b[0m\n\u001b[1;32m    374\u001b[0m         \u001b[0;31m# that raises a S3UploadFailedError. These specific errors were only\u001b[0m\u001b[0;34m\u001b[0m\u001b[0;34m\u001b[0m\u001b[0m\n",
            "\u001b[0;32m/usr/local/lib/python3.11/dist-packages/s3transfer/futures.py\u001b[0m in \u001b[0;36mresult\u001b[0;34m(self)\u001b[0m\n\u001b[1;32m    109\u001b[0m             \u001b[0;31m# however if a KeyboardInterrupt is raised we want want to exit\u001b[0m\u001b[0;34m\u001b[0m\u001b[0;34m\u001b[0m\u001b[0m\n\u001b[1;32m    110\u001b[0m             \u001b[0;31m# out of this and propagate the exception.\u001b[0m\u001b[0;34m\u001b[0m\u001b[0;34m\u001b[0m\u001b[0m\n\u001b[0;32m--> 111\u001b[0;31m             \u001b[0;32mreturn\u001b[0m \u001b[0mself\u001b[0m\u001b[0;34m.\u001b[0m\u001b[0m_coordinator\u001b[0m\u001b[0;34m.\u001b[0m\u001b[0mresult\u001b[0m\u001b[0;34m(\u001b[0m\u001b[0;34m)\u001b[0m\u001b[0;34m\u001b[0m\u001b[0;34m\u001b[0m\u001b[0m\n\u001b[0m\u001b[1;32m    112\u001b[0m         \u001b[0;32mexcept\u001b[0m \u001b[0mKeyboardInterrupt\u001b[0m \u001b[0;32mas\u001b[0m \u001b[0me\u001b[0m\u001b[0;34m:\u001b[0m\u001b[0;34m\u001b[0m\u001b[0;34m\u001b[0m\u001b[0m\n\u001b[1;32m    113\u001b[0m             \u001b[0mself\u001b[0m\u001b[0;34m.\u001b[0m\u001b[0mcancel\u001b[0m\u001b[0;34m(\u001b[0m\u001b[0;34m)\u001b[0m\u001b[0;34m\u001b[0m\u001b[0;34m\u001b[0m\u001b[0m\n",
            "\u001b[0;32m/usr/local/lib/python3.11/dist-packages/s3transfer/futures.py\u001b[0m in \u001b[0;36mresult\u001b[0;34m(self)\u001b[0m\n\u001b[1;32m    270\u001b[0m         \u001b[0;31m# final result.\u001b[0m\u001b[0;34m\u001b[0m\u001b[0;34m\u001b[0m\u001b[0m\n\u001b[1;32m    271\u001b[0m         \u001b[0;32mif\u001b[0m \u001b[0mself\u001b[0m\u001b[0;34m.\u001b[0m\u001b[0m_exception\u001b[0m\u001b[0;34m:\u001b[0m\u001b[0;34m\u001b[0m\u001b[0;34m\u001b[0m\u001b[0m\n\u001b[0;32m--> 272\u001b[0;31m             \u001b[0;32mraise\u001b[0m \u001b[0mself\u001b[0m\u001b[0;34m.\u001b[0m\u001b[0m_exception\u001b[0m\u001b[0;34m\u001b[0m\u001b[0;34m\u001b[0m\u001b[0m\n\u001b[0m\u001b[1;32m    273\u001b[0m         \u001b[0;32mreturn\u001b[0m \u001b[0mself\u001b[0m\u001b[0;34m.\u001b[0m\u001b[0m_result\u001b[0m\u001b[0;34m\u001b[0m\u001b[0;34m\u001b[0m\u001b[0m\n\u001b[1;32m    274\u001b[0m \u001b[0;34m\u001b[0m\u001b[0m\n",
            "\u001b[0;32m/usr/local/lib/python3.11/dist-packages/s3transfer/tasks.py\u001b[0m in \u001b[0;36m_main\u001b[0;34m(self, transfer_future, **kwargs)\u001b[0m\n\u001b[1;32m    270\u001b[0m             \u001b[0;31m# Call the submit method to start submitting tasks to execute the\u001b[0m\u001b[0;34m\u001b[0m\u001b[0;34m\u001b[0m\u001b[0m\n\u001b[1;32m    271\u001b[0m             \u001b[0;31m# transfer.\u001b[0m\u001b[0;34m\u001b[0m\u001b[0;34m\u001b[0m\u001b[0m\n\u001b[0;32m--> 272\u001b[0;31m             \u001b[0mself\u001b[0m\u001b[0;34m.\u001b[0m\u001b[0m_submit\u001b[0m\u001b[0;34m(\u001b[0m\u001b[0mtransfer_future\u001b[0m\u001b[0;34m=\u001b[0m\u001b[0mtransfer_future\u001b[0m\u001b[0;34m,\u001b[0m \u001b[0;34m**\u001b[0m\u001b[0mkwargs\u001b[0m\u001b[0;34m)\u001b[0m\u001b[0;34m\u001b[0m\u001b[0;34m\u001b[0m\u001b[0m\n\u001b[0m\u001b[1;32m    273\u001b[0m         \u001b[0;32mexcept\u001b[0m \u001b[0mBaseException\u001b[0m \u001b[0;32mas\u001b[0m \u001b[0me\u001b[0m\u001b[0;34m:\u001b[0m\u001b[0;34m\u001b[0m\u001b[0;34m\u001b[0m\u001b[0m\n\u001b[1;32m    274\u001b[0m             \u001b[0;31m# If there was an exception raised during the submission of task\u001b[0m\u001b[0;34m\u001b[0m\u001b[0;34m\u001b[0m\u001b[0m\n",
            "\u001b[0;32m/usr/local/lib/python3.11/dist-packages/s3transfer/upload.py\u001b[0m in \u001b[0;36m_submit\u001b[0;34m(self, client, config, osutil, request_executor, transfer_future, bandwidth_limiter)\u001b[0m\n\u001b[1;32m    594\u001b[0m         \u001b[0;31m# Determine the size if it was not provided\u001b[0m\u001b[0;34m\u001b[0m\u001b[0;34m\u001b[0m\u001b[0m\n\u001b[1;32m    595\u001b[0m         \u001b[0;32mif\u001b[0m \u001b[0mtransfer_future\u001b[0m\u001b[0;34m.\u001b[0m\u001b[0mmeta\u001b[0m\u001b[0;34m.\u001b[0m\u001b[0msize\u001b[0m \u001b[0;32mis\u001b[0m \u001b[0;32mNone\u001b[0m\u001b[0;34m:\u001b[0m\u001b[0;34m\u001b[0m\u001b[0;34m\u001b[0m\u001b[0m\n\u001b[0;32m--> 596\u001b[0;31m             \u001b[0mupload_input_manager\u001b[0m\u001b[0;34m.\u001b[0m\u001b[0mprovide_transfer_size\u001b[0m\u001b[0;34m(\u001b[0m\u001b[0mtransfer_future\u001b[0m\u001b[0;34m)\u001b[0m\u001b[0;34m\u001b[0m\u001b[0;34m\u001b[0m\u001b[0m\n\u001b[0m\u001b[1;32m    597\u001b[0m \u001b[0;34m\u001b[0m\u001b[0m\n\u001b[1;32m    598\u001b[0m         \u001b[0;31m# Do a multipart upload if needed, otherwise do a regular put object.\u001b[0m\u001b[0;34m\u001b[0m\u001b[0;34m\u001b[0m\u001b[0m\n",
            "\u001b[0;32m/usr/local/lib/python3.11/dist-packages/s3transfer/upload.py\u001b[0m in \u001b[0;36mprovide_transfer_size\u001b[0;34m(self, transfer_future)\u001b[0m\n\u001b[1;32m    243\u001b[0m     \u001b[0;32mdef\u001b[0m \u001b[0mprovide_transfer_size\u001b[0m\u001b[0;34m(\u001b[0m\u001b[0mself\u001b[0m\u001b[0;34m,\u001b[0m \u001b[0mtransfer_future\u001b[0m\u001b[0;34m)\u001b[0m\u001b[0;34m:\u001b[0m\u001b[0;34m\u001b[0m\u001b[0;34m\u001b[0m\u001b[0m\n\u001b[1;32m    244\u001b[0m         transfer_future.meta.provide_transfer_size(\n\u001b[0;32m--> 245\u001b[0;31m             \u001b[0mself\u001b[0m\u001b[0;34m.\u001b[0m\u001b[0m_osutil\u001b[0m\u001b[0;34m.\u001b[0m\u001b[0mget_file_size\u001b[0m\u001b[0;34m(\u001b[0m\u001b[0mtransfer_future\u001b[0m\u001b[0;34m.\u001b[0m\u001b[0mmeta\u001b[0m\u001b[0;34m.\u001b[0m\u001b[0mcall_args\u001b[0m\u001b[0;34m.\u001b[0m\u001b[0mfileobj\u001b[0m\u001b[0;34m)\u001b[0m\u001b[0;34m\u001b[0m\u001b[0;34m\u001b[0m\u001b[0m\n\u001b[0m\u001b[1;32m    246\u001b[0m         )\n\u001b[1;32m    247\u001b[0m \u001b[0;34m\u001b[0m\u001b[0m\n",
            "\u001b[0;32m/usr/local/lib/python3.11/dist-packages/s3transfer/utils.py\u001b[0m in \u001b[0;36mget_file_size\u001b[0;34m(self, filename)\u001b[0m\n\u001b[1;32m    260\u001b[0m \u001b[0;34m\u001b[0m\u001b[0m\n\u001b[1;32m    261\u001b[0m     \u001b[0;32mdef\u001b[0m \u001b[0mget_file_size\u001b[0m\u001b[0;34m(\u001b[0m\u001b[0mself\u001b[0m\u001b[0;34m,\u001b[0m \u001b[0mfilename\u001b[0m\u001b[0;34m)\u001b[0m\u001b[0;34m:\u001b[0m\u001b[0;34m\u001b[0m\u001b[0;34m\u001b[0m\u001b[0m\n\u001b[0;32m--> 262\u001b[0;31m         \u001b[0;32mreturn\u001b[0m \u001b[0mos\u001b[0m\u001b[0;34m.\u001b[0m\u001b[0mpath\u001b[0m\u001b[0;34m.\u001b[0m\u001b[0mgetsize\u001b[0m\u001b[0;34m(\u001b[0m\u001b[0mfilename\u001b[0m\u001b[0;34m)\u001b[0m\u001b[0;34m\u001b[0m\u001b[0;34m\u001b[0m\u001b[0m\n\u001b[0m\u001b[1;32m    263\u001b[0m \u001b[0;34m\u001b[0m\u001b[0m\n\u001b[1;32m    264\u001b[0m     \u001b[0;32mdef\u001b[0m \u001b[0mopen_file_chunk_reader\u001b[0m\u001b[0;34m(\u001b[0m\u001b[0mself\u001b[0m\u001b[0;34m,\u001b[0m \u001b[0mfilename\u001b[0m\u001b[0;34m,\u001b[0m \u001b[0mstart_byte\u001b[0m\u001b[0;34m,\u001b[0m \u001b[0msize\u001b[0m\u001b[0;34m,\u001b[0m \u001b[0mcallbacks\u001b[0m\u001b[0;34m)\u001b[0m\u001b[0;34m:\u001b[0m\u001b[0;34m\u001b[0m\u001b[0;34m\u001b[0m\u001b[0m\n",
            "\u001b[0;32m/usr/lib/python3.11/genericpath.py\u001b[0m in \u001b[0;36mgetsize\u001b[0;34m(filename)\u001b[0m\n",
            "\u001b[0;31mFileNotFoundError\u001b[0m: [Errno 2] No such file or directory: '/content/sample_data/tmp/words.txt'"
          ]
        }
      ]
    },
    {
      "cell_type": "code",
      "source": [
        "response = s3.list_objects_v2(Bucket=BUCKET_NAME)\n",
        "if \"Contents\" in response:\n",
        "    print(\"Files in S3 Bucket:\")\n",
        "    for obj in response[\"Contents\"]:\n",
        "        print(f\" - {obj['Key']}\")\n",
        "else:\n",
        "    print(\"No files found in the bucket.\")"
      ],
      "metadata": {
        "id": "h5gWyrQwdS53"
      },
      "execution_count": null,
      "outputs": []
    },
    {
      "cell_type": "code",
      "source": [
        "type(processed_data)"
      ],
      "metadata": {
        "id": "Zgh5oOBjGKgk"
      },
      "execution_count": null,
      "outputs": []
    }
  ],
  "metadata": {
    "colab": {
      "provenance": [],
      "include_colab_link": true
    },
    "kernelspec": {
      "display_name": "Python 3",
      "name": "python3"
    },
    "language_info": {
      "name": "python"
    }
  },
  "nbformat": 4,
  "nbformat_minor": 0
}