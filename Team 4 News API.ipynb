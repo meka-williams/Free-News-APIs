{
  "cells": [
    {
      "cell_type": "markdown",
      "metadata": {
        "id": "view-in-github",
        "colab_type": "text"
      },
      "source": [
        "<a href=\"https://colab.research.google.com/github/meka-williams/Free-News-APIs/blob/main/Team%204%20News%20API.ipynb\" target=\"_parent\"><img src=\"https://colab.research.google.com/assets/colab-badge.svg\" alt=\"Open In Colab\"/></a>"
      ]
    },
    {
      "cell_type": "markdown",
      "metadata": {
        "id": "q7mfnDUOUJCb"
      },
      "source": [
        "# Mini Project: Retrieving and Storing News Articles from Free News APIs\n",
        "Authors: Payal Moorti & Shameka Williams\n",
        "\n",
        "[GitHub Respository](https://github.com/meka-williams/Free-News-APIs.git)\n",
        "\n",
        "**Project Objectives**\n",
        "1. Understand how to interact with public APIs to retrieve data\n",
        "2. Learn to process, filter, and store large-scale textual data\n",
        "3. Gain hands-on experince integrating web mining techniques with cloud storage solutions\n",
        "4. Develop team collaboration and project management skills\n",
        "\n",
        "**Project Description**\n",
        "\n",
        "Each team will focus on retrieving news articles using a designated free API from the provided list. Teams will extract, clean, and store the data into a designated S3 bucket on AWS. This project will involve designining efficient workflows for API interaction, data processing, and storage, with documentation for reproducibility."
      ]
    },
    {
      "cell_type": "markdown",
      "metadata": {
        "id": "J2d4xsIQVuH1"
      },
      "source": [
        "# Project Milestones and Timeline\n",
        "\n",
        "* Week 1: Project Setup and API Familiarization\n",
        "* Week 2: Data Retrieval and Preprocessing\n",
        "* Week 3: Storing Data in S3\n",
        "* Week 4: Final Presentation and Reporting"
      ]
    },
    {
      "cell_type": "markdown",
      "metadata": {
        "id": "zysLDKw9l1JK"
      },
      "source": [
        "# Establish variables for Current News API key and and GeminiAI API key\n",
        "\n",
        "Created an instance of the `GeminiAI` object. Uses the environment variable `GOOGLE_API_KEY` to pass the key.\n",
        "\n",
        "*We used the Gemini API instead of the OpenAI API because its free-to-use and has a high usage limit.*\n"
      ]
    },
    {
      "cell_type": "code",
      "execution_count": 32,
      "metadata": {
        "id": "idLRiFpwb_nu"
      },
      "outputs": [],
      "source": [
        "import requests\n",
        "import json\n",
        "import google.generativeai as genai\n",
        "from google.colab import userdata\n",
        "import pprint\n",
        "from google import genai\n",
        "\n",
        "news_key=userdata.get(\"CURRENT_KEY\")\n",
        "gemma=userdata.get(\"GOOGLE_API_KEY\")"
      ]
    },
    {
      "cell_type": "markdown",
      "metadata": {
        "id": "v3F1FfZsmKKG"
      },
      "source": [
        "# Gemini Client Creation & Testing Model Communication\n",
        "Created a Gemini API client and utility function to communicate with Gemini model, \"Gemini 2.0 Flash Lite\""
      ]
    },
    {
      "cell_type": "code",
      "execution_count": 33,
      "metadata": {
        "id": "OzxDUyE2dkrn"
      },
      "outputs": [],
      "source": [
        "# Create Gemini client\n",
        "client = genai.Client(api_key=gemma)\n",
        "\n",
        "#utility method to talk the Gemini\n",
        "def get_response(prompt, model='gemini-2.0-flash-lite'):\n",
        "    response = client.models.generate_content(\n",
        "        model=model,\n",
        "        contents=prompt\n",
        "    )\n",
        "    return response.text"
      ]
    },
    {
      "cell_type": "markdown",
      "metadata": {
        "id": "Z_II5B1ymg-y"
      },
      "source": [
        "Checking the response from the AI"
      ]
    },
    {
      "cell_type": "code",
      "execution_count": 34,
      "metadata": {
        "colab": {
          "base_uri": "https://localhost:8080/",
          "height": 261
        },
        "id": "OAZayB9BgIbW",
        "outputId": "b608f13e-9390-4e3b-f086-6b089332966b"
      },
      "outputs": [
        {
          "output_type": "execute_result",
          "data": {
            "text/plain": [
              "'A zero-shot prompt is a type of prompt used in the context of large language models (LLMs) like GPT-3, GPT-4, and others. It allows the model to perform a task without being given any specific examples or training data. Essentially, you simply provide the model with a task description or question and expect it to understand and respond accordingly.\\n\\nHere\\'s a breakdown:\\n\\n*   **Zero-Shot:** The model receives *no* examples during the prompt itself. It\\'s expected to leverage its pre-trained knowledge to solve the task.\\n*   **Prompt:** This is the input text you provide to the LLM, instructing it on what to do. It can be a question, a task description, or a request for generation.\\n\\n**How it works:**\\n\\nLLMs are trained on vast amounts of text and code. This pre-training allows them to:\\n\\n*   Understand language patterns.\\n*   Recognize relationships between words and concepts.\\n*   Generate text in a grammatically correct and contextually relevant manner.\\n\\nA zero-shot prompt takes advantage of this pre-trained knowledge.  The model uses its internal understanding to figure out how to complete the task, even without being shown any examples of the desired output.\\n\\n**Examples of zero-shot prompts:**\\n\\n*   **Translation:** \"Translate the following English sentence into French: \\'Hello, how are you?\\'\"\\n*   **Question Answering:** \"What is the capital of France?\"\\n*   **Sentiment Analysis:** \"What is the sentiment of the following review: \\'This movie was amazing!\\'\"\\n*   **Text Summarization:** \"Summarize the following news article:\" (followed by the article)\\n*   **Code Generation:** \"Write a Python function to calculate the factorial of a number.\"\\n\\n**Advantages of Zero-Shot Learning:**\\n\\n*   **Versatility:**  You can apply the model to tasks it hasn\\'t been explicitly trained on.\\n*   **No training data needed:** Saves time and resources on creating and labeling datasets.\\n*   **Fast prototyping:** Quickly test ideas without significant data preparation.\\n\\n**Limitations of Zero-Shot Learning:**\\n\\n*   **Accuracy can be lower:**  Performance may be less accurate compared to methods with more specific fine-tuning.\\n*   **Relies on pre-training:** The model\\'s performance depends heavily on the quality and scope of its pre-training data.\\n*   **Can be unpredictable:**  The model\\'s responses can be less consistent and sometimes nonsensical.\\n*   **Requires careful prompt engineering:**  Getting good results often requires crafting prompts that are clear, concise, and unambiguous.\\n\\n**In Summary:**\\n\\nZero-shot prompting is a powerful technique that allows you to leverage the knowledge embedded in large language models without requiring any specific training examples. It\\'s a versatile tool but comes with limitations that need to be considered when evaluating its performance.\\n'"
            ],
            "application/vnd.google.colaboratory.intrinsic+json": {
              "type": "string"
            }
          },
          "metadata": {},
          "execution_count": 34
        }
      ],
      "source": [
        "#testing get_response\n",
        "get_response(\"What is a zero shot prompt?\")"
      ]
    },
    {
      "cell_type": "markdown",
      "metadata": {
        "id": "jcRqoLLemwdM"
      },
      "source": [
        "# Querying the News API\n",
        "The `get_news_articles` function retrieves articles from the Currents API. articles from Currents API. Specifying the amount of articles obtained to be 150, in English, and pertaining to the topic of health.\n",
        "\n",
        "**Parameters**\n",
        "\n",
        "*   `api_key` : key for the Currents API\n",
        "*   `keywords = \"Health\"` : topic of the articles\n",
        "*   `page_size` : number of articles\n",
        "\n",
        "**Challenges & Outcomes**\n",
        "\n",
        "At first, only getting 30 articles. Changed the parameters of the retrieval function to fix issue."
      ]
    },
    {
      "cell_type": "code",
      "execution_count": 35,
      "metadata": {
        "colab": {
          "base_uri": "https://localhost:8080/"
        },
        "id": "Ka1iQsaiXxVu",
        "outputId": "bedb97f6-fa91-4810-f5e4-7923e4d547af"
      },
      "outputs": [
        {
          "output_type": "stream",
          "name": "stdout",
          "text": [
            "Total Results: 150\n"
          ]
        }
      ],
      "source": [
        "def get_news_articles(api_key, keywords='Health', language='en', page_size=150):\n",
        "   # Retrieves news articles from the Currents API based on the provided parameters.\n",
        "    url = f'https://api.currentsapi.services/v1/search?keywords={keywords}&language={language}&page_size={page_size}&apiKey={api_key}'\n",
        "    response = requests.get(url)\n",
        "    data = response.json()\n",
        "\n",
        "    print(f\"Total Results: {len(data.get('news', []))}\")  # Access 'news' from JSON data\n",
        "\n",
        "    return data\n",
        "\n",
        "# Example usage\n",
        "news_data = get_news_articles(news_key)"
      ]
    },
    {
      "cell_type": "code",
      "execution_count": 36,
      "metadata": {
        "colab": {
          "base_uri": "https://localhost:8080/"
        },
        "id": "p3eOE_nMmTW8",
        "outputId": "4bf0b06d-256a-406d-cd5f-55e6c8d53f36"
      },
      "outputs": [
        {
          "output_type": "stream",
          "name": "stdout",
          "text": [
            "{'author': 'foxnews',\n",
            " 'category': ['entertainment'],\n",
            " 'description': 'King Charles III and Queen Camilla have figured out the '\n",
            "                'secret to a successful marriage, and it may have something to '\n",
            "                'do with where they sleep.\\xa0\"They have known each other '\n",
            "                'since [they were] very young and are great friends. There is '\n",
            "                'no competitive edge between King Charles and Queen Camilla,\" '\n",
            "                'Britis...',\n",
            " 'id': '6fab6c2d-fa87-4817-ac0d-db4b24c91f05',\n",
            " 'image': 'https://static.foxnews.com/foxnews.com/content/uploads/2025/04/charles-and-camilla.jpg',\n",
            " 'language': 'en',\n",
            " 'published': '2025-04-09 08:00:02 +0000',\n",
            " 'title': 'King Charles, Queen Camilla’s unconventional bedroom arrangement is '\n",
            "          'secret sauce to staying together: expert',\n",
            " 'url': 'https://www.foxnews.com/entertainment/king-charles-queen-camillas-unconventional-bedroom-arrangement-secret-sauce-staying-together-expert'}\n"
          ]
        }
      ],
      "source": [
        "#display sample article\n",
        "pprint.pprint(news_data['news'][60])"
      ]
    },
    {
      "cell_type": "markdown",
      "metadata": {
        "id": "y6XjyFyynLyN"
      },
      "source": [
        "# Preprocessing and Clean Retrieved Articles\n",
        "This code preprocesses a collection of news articles by handling data quality issues:\n",
        "\n",
        "It begins by printing the count of articles to be processed and inspects the structure of a sample article.\n",
        "It creates empty collections to track seen URLs and store processed articles\n",
        "For each article, it:\n",
        "\n",
        "*   Skips articles without URLS\n",
        "*   Skips articles that contain duplicate URLS\n",
        "*   Creates structure with consistent feilds:Adds default values for missing data (like \"Unknown\" for missing authors)\n",
        "*   Adds \"PROCESSED:\" prefix to titles for verification\n",
        "*   It skips articles missing both title and description\n",
        "\n",
        "It returns the collection of cleaned, deduplicated articles and prints statistics about the preprocessing and shows a comparison between an original and a preprocessed article.\n",
        "\n",
        "**Parameters**\n",
        "\n",
        "*   `articles` : retrieved articles"
      ]
    },
    {
      "cell_type": "code",
      "execution_count": 37,
      "metadata": {
        "colab": {
          "base_uri": "https://localhost:8080/"
        },
        "id": "nNItPSZUulxi",
        "outputId": "c66cce5f-0e4f-450d-ae73-ba07315289ee"
      },
      "outputs": [
        {
          "output_type": "stream",
          "name": "stdout",
          "text": [
            "Starting preprocessing on 150 articles\n",
            "\n",
            "Original article keys:\n",
            "['author', 'category', 'description', 'id', 'image', 'language', 'published', 'title', 'url']\n",
            "Total articles after preprocessing: 150\n",
            "\n",
            "Original article:\n",
            "{'author': 'foxnews',\n",
            " 'category': ['entertainment'],\n",
            " 'description': 'King Charles III and Queen Camilla have figured out the '\n",
            "                'secret to a successful marriage, and it may have something to '\n",
            "                'do with where they sleep.\\xa0\"They have known each other '\n",
            "                'since [they were] very young and are great friends. There is '\n",
            "                'no competitive edge between King Charles and Queen Camilla,\" '\n",
            "                'Britis...',\n",
            " 'id': '6fab6c2d-fa87-4817-ac0d-db4b24c91f05',\n",
            " 'image': 'https://static.foxnews.com/foxnews.com/content/uploads/2025/04/charles-and-camilla.jpg',\n",
            " 'language': 'en',\n",
            " 'published': '2025-04-09 08:00:02 +0000',\n",
            " 'title': 'King Charles, Queen Camilla’s unconventional bedroom arrangement is '\n",
            "          'secret sauce to staying together: expert',\n",
            " 'url': 'https://www.foxnews.com/entertainment/king-charles-queen-camillas-unconventional-bedroom-arrangement-secret-sauce-staying-together-expert'}\n",
            "\n",
            "Preprocessed article:\n",
            "{'author': 'foxnews',\n",
            " 'category': ['entertainment'],\n",
            " 'description': 'King Charles III and Queen Camilla have figured out the '\n",
            "                'secret to a successful marriage, and it may have something to '\n",
            "                'do with where they sleep.\\xa0\"They have known each other '\n",
            "                'since [they were] very young and are great friends. There is '\n",
            "                'no competitive edge between King Charles and Queen Camilla,\" '\n",
            "                'Britis...',\n",
            " 'id': '6fab6c2d-fa87-4817-ac0d-db4b24c91f05',\n",
            " 'image': 'https://static.foxnews.com/foxnews.com/content/uploads/2025/04/charles-and-camilla.jpg',\n",
            " 'language': 'en',\n",
            " 'published': '2025-04-09 08:00:02 +0000',\n",
            " 'title': 'PROCESSED: King Charles, Queen Camilla’s unconventional bedroom '\n",
            "          'arrangement is secret sauce to staying together: expert',\n",
            " 'url': 'https://www.foxnews.com/entertainment/king-charles-queen-camillas-unconventional-bedroom-arrangement-secret-sauce-staying-together-expert'}\n"
          ]
        }
      ],
      "source": [
        "#preprocessing retrieved articles: handling duplicates and missing data\n",
        "def preprocess_articles(articles):\n",
        "    print(f\"Starting preprocessing on {len(articles)} articles\")\n",
        "    original_article = news_data.get('news', [])[90]\n",
        "    print(\"\\nOriginal article keys:\")\n",
        "    print(sorted(original_article.keys()))\n",
        "\n",
        "    seen_urls = set()\n",
        "    preprocessed_articles = []\n",
        "    for article in articles:\n",
        "      #skip articles without url\n",
        "        url = article.get('url')\n",
        "        if not url:\n",
        "            continue\n",
        "        #skip duplicate urls\n",
        "        if url in seen_urls:\n",
        "            continue\n",
        "        seen_urls.add(url)\n",
        "        processed_article = {\n",
        "            \"id\": article.get(\"id\", \"\"),\n",
        "            \"title\": \"PROCESSED: \" + article.get(\"title\", \"No title available\"),  # Add a prefix to verify\n",
        "            \"description\": article.get(\"description\", \"No description available\"),\n",
        "            \"url\": url,\n",
        "            \"author\": article.get(\"author\", \"Unknown\"),\n",
        "            \"image\": article.get(\"image\", \"\"),\n",
        "            \"language\": article.get(\"language\", \"en\"),\n",
        "            \"category\": article.get(\"category\", []),\n",
        "            \"published\": article.get(\"published\", \"na\"),\n",
        "        }\n",
        "        # Skip articles with empty titles and descriptions (both missing)\n",
        "        if processed_article[\"title\"] == \"No title available\" and processed_article[\"description\"] == \"No description available\":\n",
        "            continue\n",
        "        preprocessed_articles.append(processed_article)\n",
        "    return preprocessed_articles\n",
        "\n",
        "processed_data = preprocess_articles(news_data.get('news', []))\n",
        "\n",
        "print(f\"Total articles after preprocessing: {len(processed_data)}\")\n",
        "\n",
        "#print sample original article\n",
        "print(\"\\nOriginal article:\")\n",
        "pprint.pprint(news_data.get('news', [])[60])\n",
        "\n",
        "#print sample preprocessed article\n",
        "print(\"\\nPreprocessed article:\")\n",
        "pprint.pprint(processed_data[60])"
      ]
    },
    {
      "cell_type": "markdown",
      "metadata": {
        "id": "GLWa2cj-ZAc5"
      },
      "source": [
        "# Set Up Access to S3 Bucket\n",
        "\n",
        "Imported libaries required for access. Created variables, `TEAM` and `BUCKET_NAME`, with correct values for access to class bucket and team number."
      ]
    },
    {
      "cell_type": "code",
      "execution_count": 38,
      "metadata": {
        "colab": {
          "base_uri": "https://localhost:8080/"
        },
        "id": "qHyf8gHJY8tB",
        "outputId": "9e2c5620-1d90-4711-f4d3-a0dff6808e1e"
      },
      "outputs": [
        {
          "output_type": "stream",
          "name": "stdout",
          "text": [
            "Requirement already satisfied: boto3 in /usr/local/lib/python3.11/dist-packages (1.37.33)\n",
            "Requirement already satisfied: botocore<1.38.0,>=1.37.33 in /usr/local/lib/python3.11/dist-packages (from boto3) (1.37.33)\n",
            "Requirement already satisfied: jmespath<2.0.0,>=0.7.1 in /usr/local/lib/python3.11/dist-packages (from boto3) (1.0.1)\n",
            "Requirement already satisfied: s3transfer<0.12.0,>=0.11.0 in /usr/local/lib/python3.11/dist-packages (from boto3) (0.11.4)\n",
            "Requirement already satisfied: python-dateutil<3.0.0,>=2.1 in /usr/local/lib/python3.11/dist-packages (from botocore<1.38.0,>=1.37.33->boto3) (2.8.2)\n",
            "Requirement already satisfied: urllib3!=2.2.0,<3,>=1.25.4 in /usr/local/lib/python3.11/dist-packages (from botocore<1.38.0,>=1.37.33->boto3) (2.3.0)\n",
            "Requirement already satisfied: six>=1.5 in /usr/local/lib/python3.11/dist-packages (from python-dateutil<3.0.0,>=2.1->botocore<1.38.0,>=1.37.33->boto3) (1.17.0)\n"
          ]
        }
      ],
      "source": [
        "!pip install boto3"
      ]
    },
    {
      "cell_type": "code",
      "execution_count": 39,
      "metadata": {
        "id": "9C8Hm3eEZdDo"
      },
      "outputs": [],
      "source": [
        "import os\n",
        "import boto3\n",
        "from botocore.config import Config\n",
        "from botocore import UNSIGNED"
      ]
    },
    {
      "cell_type": "code",
      "execution_count": 40,
      "metadata": {
        "id": "J6_9c0QLZp0Z"
      },
      "outputs": [],
      "source": [
        "TEAM = \"TEAM_4/\"\n",
        "BUCKET_NAME = \"cus635-spring2025\"\n",
        "\n",
        "s3 = boto3.client('s3', config=Config(signature_version=UNSIGNED))"
      ]
    },
    {
      "cell_type": "markdown",
      "metadata": {
        "id": "8CQvNFyJZwAY"
      },
      "source": [
        "# Upload a Test File to S3 Bucket\n",
        "Uploaded `words.txt` to test access to S3."
      ]
    },
    {
      "cell_type": "code",
      "execution_count": 41,
      "metadata": {
        "id": "7I7vVHbAbs_x",
        "colab": {
          "base_uri": "https://localhost:8080/",
          "height": 287
        },
        "outputId": "8ed7e937-ce15-49fd-dfae-a3e1a3b651ec"
      },
      "outputs": [
        {
          "output_type": "error",
          "ename": "FileNotFoundError",
          "evalue": "[Errno 2] No such file or directory: '/content/sample_data/tmp/words.txt'",
          "traceback": [
            "\u001b[0;31m---------------------------------------------------------------------------\u001b[0m",
            "\u001b[0;31mFileNotFoundError\u001b[0m                         Traceback (most recent call last)",
            "\u001b[0;32m<ipython-input-41-d56da87f7679>\u001b[0m in \u001b[0;36m<cell line: 0>\u001b[0;34m()\u001b[0m\n\u001b[1;32m      3\u001b[0m \u001b[0mobject_name\u001b[0m \u001b[0;34m=\u001b[0m \u001b[0mfile_name\u001b[0m\u001b[0;34m\u001b[0m\u001b[0;34m\u001b[0m\u001b[0m\n\u001b[1;32m      4\u001b[0m \u001b[0;34m\u001b[0m\u001b[0m\n\u001b[0;32m----> 5\u001b[0;31m \u001b[0ms3\u001b[0m\u001b[0;34m.\u001b[0m\u001b[0mupload_file\u001b[0m\u001b[0;34m(\u001b[0m\u001b[0mfile_path\u001b[0m\u001b[0;34m+\u001b[0m\u001b[0mfile_name\u001b[0m\u001b[0;34m,\u001b[0m \u001b[0mBUCKET_NAME\u001b[0m\u001b[0;34m,\u001b[0m \u001b[0mTEAM\u001b[0m\u001b[0;34m+\u001b[0m\u001b[0mobject_name\u001b[0m\u001b[0;34m)\u001b[0m\u001b[0;34m\u001b[0m\u001b[0;34m\u001b[0m\u001b[0m\n\u001b[0m",
            "\u001b[0;32m/usr/local/lib/python3.11/dist-packages/botocore/context.py\u001b[0m in \u001b[0;36mwrapper\u001b[0;34m(*args, **kwargs)\u001b[0m\n\u001b[1;32m    122\u001b[0m                 \u001b[0;32mif\u001b[0m \u001b[0mhook\u001b[0m\u001b[0;34m:\u001b[0m\u001b[0;34m\u001b[0m\u001b[0;34m\u001b[0m\u001b[0m\n\u001b[1;32m    123\u001b[0m                     \u001b[0mhook\u001b[0m\u001b[0;34m(\u001b[0m\u001b[0;34m)\u001b[0m\u001b[0;34m\u001b[0m\u001b[0;34m\u001b[0m\u001b[0m\n\u001b[0;32m--> 124\u001b[0;31m                 \u001b[0;32mreturn\u001b[0m \u001b[0mfunc\u001b[0m\u001b[0;34m(\u001b[0m\u001b[0;34m*\u001b[0m\u001b[0margs\u001b[0m\u001b[0;34m,\u001b[0m \u001b[0;34m**\u001b[0m\u001b[0mkwargs\u001b[0m\u001b[0;34m)\u001b[0m\u001b[0;34m\u001b[0m\u001b[0;34m\u001b[0m\u001b[0m\n\u001b[0m\u001b[1;32m    125\u001b[0m \u001b[0;34m\u001b[0m\u001b[0m\n\u001b[1;32m    126\u001b[0m         \u001b[0;32mreturn\u001b[0m \u001b[0mwrapper\u001b[0m\u001b[0;34m\u001b[0m\u001b[0;34m\u001b[0m\u001b[0m\n",
            "\u001b[0;32m/usr/local/lib/python3.11/dist-packages/boto3/s3/inject.py\u001b[0m in \u001b[0;36mupload_file\u001b[0;34m(self, Filename, Bucket, Key, ExtraArgs, Callback, Config)\u001b[0m\n\u001b[1;32m    173\u001b[0m     \"\"\"\n\u001b[1;32m    174\u001b[0m     \u001b[0;32mwith\u001b[0m \u001b[0mS3Transfer\u001b[0m\u001b[0;34m(\u001b[0m\u001b[0mself\u001b[0m\u001b[0;34m,\u001b[0m \u001b[0mConfig\u001b[0m\u001b[0;34m)\u001b[0m \u001b[0;32mas\u001b[0m \u001b[0mtransfer\u001b[0m\u001b[0;34m:\u001b[0m\u001b[0;34m\u001b[0m\u001b[0;34m\u001b[0m\u001b[0m\n\u001b[0;32m--> 175\u001b[0;31m         return transfer.upload_file(\n\u001b[0m\u001b[1;32m    176\u001b[0m             \u001b[0mfilename\u001b[0m\u001b[0;34m=\u001b[0m\u001b[0mFilename\u001b[0m\u001b[0;34m,\u001b[0m\u001b[0;34m\u001b[0m\u001b[0;34m\u001b[0m\u001b[0m\n\u001b[1;32m    177\u001b[0m             \u001b[0mbucket\u001b[0m\u001b[0;34m=\u001b[0m\u001b[0mBucket\u001b[0m\u001b[0;34m,\u001b[0m\u001b[0;34m\u001b[0m\u001b[0;34m\u001b[0m\u001b[0m\n",
            "\u001b[0;32m/usr/local/lib/python3.11/dist-packages/boto3/s3/transfer.py\u001b[0m in \u001b[0;36mupload_file\u001b[0;34m(self, filename, bucket, key, callback, extra_args)\u001b[0m\n\u001b[1;32m    370\u001b[0m         )\n\u001b[1;32m    371\u001b[0m         \u001b[0;32mtry\u001b[0m\u001b[0;34m:\u001b[0m\u001b[0;34m\u001b[0m\u001b[0;34m\u001b[0m\u001b[0m\n\u001b[0;32m--> 372\u001b[0;31m             \u001b[0mfuture\u001b[0m\u001b[0;34m.\u001b[0m\u001b[0mresult\u001b[0m\u001b[0;34m(\u001b[0m\u001b[0;34m)\u001b[0m\u001b[0;34m\u001b[0m\u001b[0;34m\u001b[0m\u001b[0m\n\u001b[0m\u001b[1;32m    373\u001b[0m         \u001b[0;31m# If a client error was raised, add the backwards compatibility layer\u001b[0m\u001b[0;34m\u001b[0m\u001b[0;34m\u001b[0m\u001b[0m\n\u001b[1;32m    374\u001b[0m         \u001b[0;31m# that raises a S3UploadFailedError. These specific errors were only\u001b[0m\u001b[0;34m\u001b[0m\u001b[0;34m\u001b[0m\u001b[0m\n",
            "\u001b[0;32m/usr/local/lib/python3.11/dist-packages/s3transfer/futures.py\u001b[0m in \u001b[0;36mresult\u001b[0;34m(self)\u001b[0m\n\u001b[1;32m    109\u001b[0m             \u001b[0;31m# however if a KeyboardInterrupt is raised we want want to exit\u001b[0m\u001b[0;34m\u001b[0m\u001b[0;34m\u001b[0m\u001b[0m\n\u001b[1;32m    110\u001b[0m             \u001b[0;31m# out of this and propagate the exception.\u001b[0m\u001b[0;34m\u001b[0m\u001b[0;34m\u001b[0m\u001b[0m\n\u001b[0;32m--> 111\u001b[0;31m             \u001b[0;32mreturn\u001b[0m \u001b[0mself\u001b[0m\u001b[0;34m.\u001b[0m\u001b[0m_coordinator\u001b[0m\u001b[0;34m.\u001b[0m\u001b[0mresult\u001b[0m\u001b[0;34m(\u001b[0m\u001b[0;34m)\u001b[0m\u001b[0;34m\u001b[0m\u001b[0;34m\u001b[0m\u001b[0m\n\u001b[0m\u001b[1;32m    112\u001b[0m         \u001b[0;32mexcept\u001b[0m \u001b[0mKeyboardInterrupt\u001b[0m \u001b[0;32mas\u001b[0m \u001b[0me\u001b[0m\u001b[0;34m:\u001b[0m\u001b[0;34m\u001b[0m\u001b[0;34m\u001b[0m\u001b[0m\n\u001b[1;32m    113\u001b[0m             \u001b[0mself\u001b[0m\u001b[0;34m.\u001b[0m\u001b[0mcancel\u001b[0m\u001b[0;34m(\u001b[0m\u001b[0;34m)\u001b[0m\u001b[0;34m\u001b[0m\u001b[0;34m\u001b[0m\u001b[0m\n",
            "\u001b[0;32m/usr/local/lib/python3.11/dist-packages/s3transfer/futures.py\u001b[0m in \u001b[0;36mresult\u001b[0;34m(self)\u001b[0m\n\u001b[1;32m    270\u001b[0m         \u001b[0;31m# final result.\u001b[0m\u001b[0;34m\u001b[0m\u001b[0;34m\u001b[0m\u001b[0m\n\u001b[1;32m    271\u001b[0m         \u001b[0;32mif\u001b[0m \u001b[0mself\u001b[0m\u001b[0;34m.\u001b[0m\u001b[0m_exception\u001b[0m\u001b[0;34m:\u001b[0m\u001b[0;34m\u001b[0m\u001b[0;34m\u001b[0m\u001b[0m\n\u001b[0;32m--> 272\u001b[0;31m             \u001b[0;32mraise\u001b[0m \u001b[0mself\u001b[0m\u001b[0;34m.\u001b[0m\u001b[0m_exception\u001b[0m\u001b[0;34m\u001b[0m\u001b[0;34m\u001b[0m\u001b[0m\n\u001b[0m\u001b[1;32m    273\u001b[0m         \u001b[0;32mreturn\u001b[0m \u001b[0mself\u001b[0m\u001b[0;34m.\u001b[0m\u001b[0m_result\u001b[0m\u001b[0;34m\u001b[0m\u001b[0;34m\u001b[0m\u001b[0m\n\u001b[1;32m    274\u001b[0m \u001b[0;34m\u001b[0m\u001b[0m\n",
            "\u001b[0;32m/usr/local/lib/python3.11/dist-packages/s3transfer/tasks.py\u001b[0m in \u001b[0;36m_main\u001b[0;34m(self, transfer_future, **kwargs)\u001b[0m\n\u001b[1;32m    270\u001b[0m             \u001b[0;31m# Call the submit method to start submitting tasks to execute the\u001b[0m\u001b[0;34m\u001b[0m\u001b[0;34m\u001b[0m\u001b[0m\n\u001b[1;32m    271\u001b[0m             \u001b[0;31m# transfer.\u001b[0m\u001b[0;34m\u001b[0m\u001b[0;34m\u001b[0m\u001b[0m\n\u001b[0;32m--> 272\u001b[0;31m             \u001b[0mself\u001b[0m\u001b[0;34m.\u001b[0m\u001b[0m_submit\u001b[0m\u001b[0;34m(\u001b[0m\u001b[0mtransfer_future\u001b[0m\u001b[0;34m=\u001b[0m\u001b[0mtransfer_future\u001b[0m\u001b[0;34m,\u001b[0m \u001b[0;34m**\u001b[0m\u001b[0mkwargs\u001b[0m\u001b[0;34m)\u001b[0m\u001b[0;34m\u001b[0m\u001b[0;34m\u001b[0m\u001b[0m\n\u001b[0m\u001b[1;32m    273\u001b[0m         \u001b[0;32mexcept\u001b[0m \u001b[0mBaseException\u001b[0m \u001b[0;32mas\u001b[0m \u001b[0me\u001b[0m\u001b[0;34m:\u001b[0m\u001b[0;34m\u001b[0m\u001b[0;34m\u001b[0m\u001b[0m\n\u001b[1;32m    274\u001b[0m             \u001b[0;31m# If there was an exception raised during the submission of task\u001b[0m\u001b[0;34m\u001b[0m\u001b[0;34m\u001b[0m\u001b[0m\n",
            "\u001b[0;32m/usr/local/lib/python3.11/dist-packages/s3transfer/upload.py\u001b[0m in \u001b[0;36m_submit\u001b[0;34m(self, client, config, osutil, request_executor, transfer_future, bandwidth_limiter)\u001b[0m\n\u001b[1;32m    594\u001b[0m         \u001b[0;31m# Determine the size if it was not provided\u001b[0m\u001b[0;34m\u001b[0m\u001b[0;34m\u001b[0m\u001b[0m\n\u001b[1;32m    595\u001b[0m         \u001b[0;32mif\u001b[0m \u001b[0mtransfer_future\u001b[0m\u001b[0;34m.\u001b[0m\u001b[0mmeta\u001b[0m\u001b[0;34m.\u001b[0m\u001b[0msize\u001b[0m \u001b[0;32mis\u001b[0m \u001b[0;32mNone\u001b[0m\u001b[0;34m:\u001b[0m\u001b[0;34m\u001b[0m\u001b[0;34m\u001b[0m\u001b[0m\n\u001b[0;32m--> 596\u001b[0;31m             \u001b[0mupload_input_manager\u001b[0m\u001b[0;34m.\u001b[0m\u001b[0mprovide_transfer_size\u001b[0m\u001b[0;34m(\u001b[0m\u001b[0mtransfer_future\u001b[0m\u001b[0;34m)\u001b[0m\u001b[0;34m\u001b[0m\u001b[0;34m\u001b[0m\u001b[0m\n\u001b[0m\u001b[1;32m    597\u001b[0m \u001b[0;34m\u001b[0m\u001b[0m\n\u001b[1;32m    598\u001b[0m         \u001b[0;31m# Do a multipart upload if needed, otherwise do a regular put object.\u001b[0m\u001b[0;34m\u001b[0m\u001b[0;34m\u001b[0m\u001b[0m\n",
            "\u001b[0;32m/usr/local/lib/python3.11/dist-packages/s3transfer/upload.py\u001b[0m in \u001b[0;36mprovide_transfer_size\u001b[0;34m(self, transfer_future)\u001b[0m\n\u001b[1;32m    243\u001b[0m     \u001b[0;32mdef\u001b[0m \u001b[0mprovide_transfer_size\u001b[0m\u001b[0;34m(\u001b[0m\u001b[0mself\u001b[0m\u001b[0;34m,\u001b[0m \u001b[0mtransfer_future\u001b[0m\u001b[0;34m)\u001b[0m\u001b[0;34m:\u001b[0m\u001b[0;34m\u001b[0m\u001b[0;34m\u001b[0m\u001b[0m\n\u001b[1;32m    244\u001b[0m         transfer_future.meta.provide_transfer_size(\n\u001b[0;32m--> 245\u001b[0;31m             \u001b[0mself\u001b[0m\u001b[0;34m.\u001b[0m\u001b[0m_osutil\u001b[0m\u001b[0;34m.\u001b[0m\u001b[0mget_file_size\u001b[0m\u001b[0;34m(\u001b[0m\u001b[0mtransfer_future\u001b[0m\u001b[0;34m.\u001b[0m\u001b[0mmeta\u001b[0m\u001b[0;34m.\u001b[0m\u001b[0mcall_args\u001b[0m\u001b[0;34m.\u001b[0m\u001b[0mfileobj\u001b[0m\u001b[0;34m)\u001b[0m\u001b[0;34m\u001b[0m\u001b[0;34m\u001b[0m\u001b[0m\n\u001b[0m\u001b[1;32m    246\u001b[0m         )\n\u001b[1;32m    247\u001b[0m \u001b[0;34m\u001b[0m\u001b[0m\n",
            "\u001b[0;32m/usr/local/lib/python3.11/dist-packages/s3transfer/utils.py\u001b[0m in \u001b[0;36mget_file_size\u001b[0;34m(self, filename)\u001b[0m\n\u001b[1;32m    260\u001b[0m \u001b[0;34m\u001b[0m\u001b[0m\n\u001b[1;32m    261\u001b[0m     \u001b[0;32mdef\u001b[0m \u001b[0mget_file_size\u001b[0m\u001b[0;34m(\u001b[0m\u001b[0mself\u001b[0m\u001b[0;34m,\u001b[0m \u001b[0mfilename\u001b[0m\u001b[0;34m)\u001b[0m\u001b[0;34m:\u001b[0m\u001b[0;34m\u001b[0m\u001b[0;34m\u001b[0m\u001b[0m\n\u001b[0;32m--> 262\u001b[0;31m         \u001b[0;32mreturn\u001b[0m \u001b[0mos\u001b[0m\u001b[0;34m.\u001b[0m\u001b[0mpath\u001b[0m\u001b[0;34m.\u001b[0m\u001b[0mgetsize\u001b[0m\u001b[0;34m(\u001b[0m\u001b[0mfilename\u001b[0m\u001b[0;34m)\u001b[0m\u001b[0;34m\u001b[0m\u001b[0;34m\u001b[0m\u001b[0m\n\u001b[0m\u001b[1;32m    263\u001b[0m \u001b[0;34m\u001b[0m\u001b[0m\n\u001b[1;32m    264\u001b[0m     \u001b[0;32mdef\u001b[0m \u001b[0mopen_file_chunk_reader\u001b[0m\u001b[0;34m(\u001b[0m\u001b[0mself\u001b[0m\u001b[0;34m,\u001b[0m \u001b[0mfilename\u001b[0m\u001b[0;34m,\u001b[0m \u001b[0mstart_byte\u001b[0m\u001b[0;34m,\u001b[0m \u001b[0msize\u001b[0m\u001b[0;34m,\u001b[0m \u001b[0mcallbacks\u001b[0m\u001b[0;34m)\u001b[0m\u001b[0;34m:\u001b[0m\u001b[0;34m\u001b[0m\u001b[0;34m\u001b[0m\u001b[0m\n",
            "\u001b[0;32m/usr/lib/python3.11/genericpath.py\u001b[0m in \u001b[0;36mgetsize\u001b[0;34m(filename)\u001b[0m\n",
            "\u001b[0;31mFileNotFoundError\u001b[0m: [Errno 2] No such file or directory: '/content/sample_data/tmp/words.txt'"
          ]
        }
      ],
      "source": [
        "file_path = \"/content/sample_data/tmp/\"\n",
        "file_name = \"words.txt\"\n",
        "object_name = file_name\n",
        "\n",
        "s3.upload_file(file_path+file_name, BUCKET_NAME, TEAM+object_name)"
      ]
    },
    {
      "cell_type": "code",
      "execution_count": null,
      "metadata": {
        "collapsed": true,
        "id": "h5gWyrQwdS53"
      },
      "outputs": [],
      "source": [
        "response = s3.list_objects_v2(Bucket=BUCKET_NAME)\n",
        "if \"Contents\" in response:\n",
        "    print(\"Files in S3 Bucket:\")\n",
        "    for obj in response[\"Contents\"]:\n",
        "        print(f\" - {obj['Key']}\")\n",
        "else:\n",
        "    print(\"No files found in the bucket.\")"
      ]
    },
    {
      "cell_type": "code",
      "execution_count": null,
      "metadata": {
        "id": "EA7EljScazVE"
      },
      "outputs": [],
      "source": []
    },
    {
      "cell_type": "markdown",
      "metadata": {
        "id": "JyXu5ioMaRFq"
      },
      "source": [
        "# Upload JSON Articles to Team Folder\n",
        "Created `upload_article_to_s3` function to iterate through processed articles and upload the articles individually into the team folder in the S3 Bucket.\n",
        "\n",
        "**Parameters**\n",
        "\n",
        "\n",
        "*   `articles` : list of processed articles\n",
        "*   `bucket_name` : name of the S3 bucket\n",
        "*   `team_folder` : team folder to store articles\n",
        "\n",
        "**Challenges & Outcomes**\n",
        "\n",
        "Setting the names for the each article and removing spaces from the JSON file name. Fixed using regular expression for pattern matching and removing spaces."
      ]
    },
    {
      "cell_type": "code",
      "execution_count": 42,
      "metadata": {
        "colab": {
          "base_uri": "https://localhost:8080/"
        },
        "collapsed": true,
        "id": "Zgh5oOBjGKgk",
        "outputId": "7bf978f4-fd10-4b7e-ec3a-40065c8474ce"
      },
      "outputs": [
        {
          "output_type": "stream",
          "name": "stdout",
          "text": [
            "Article 1 uploaded successfully to s3://cus635-spring2025/TEAM_4/PROCESSED_The_Many_Ways_Kennedy_Is_Already_Undermining_Vaccines.json\n",
            "Article 2 uploaded successfully to s3://cus635-spring2025/TEAM_4/PROCESSED_Alabama_woman_has_pig_kidney_removed_after_a_record_130_days.json\n",
            "Article 3 uploaded successfully to s3://cus635-spring2025/TEAM_4/PROCESSED_Bernie_Sanders_says_largest_Fighting_Oligarchy_rally_with_AOC_is_making_Trump_Musk_very_nervous.json\n",
            "Article 4 uploaded successfully to s3://cus635-spring2025/TEAM_4/PROCESSED_How_Health_and_Human_Safety_Department_cuts_could_affect_your_health.json\n",
            "Article 5 uploaded successfully to s3://cus635-spring2025/TEAM_4/PROCESSED_Exclusive_--_Ironic_How_Liberal_Media_Weaponizes_Woke_Cancel_Culture_RFK_Jr._Hammers_Fake_News_Attacks_Falsely_Claiming_He_Mocked_Handicapped.json\n",
            "Article 6 uploaded successfully to s3://cus635-spring2025/TEAM_4/PROCESSED_Diabetes_and_weight-loss_drug_changed_my_life_says_senator_I_feel_a_decade_younger.json\n",
            "Article 7 uploaded successfully to s3://cus635-spring2025/TEAM_4/PROCESSED_Cowboys_Dak_Prescott_says_he_could_definitely_play_today_as_he_recovers_from_hamstring_injury.json\n",
            "Article 8 uploaded successfully to s3://cus635-spring2025/TEAM_4/PROCESSED_Trump_administration_vows_release_of_RFK_assassination_files_within_days._Heres_what_we_know..json\n",
            "Article 9 uploaded successfully to s3://cus635-spring2025/TEAM_4/PROCESSED_PHOTO_St._Louis_Zoo_Mourns_Death_of_over_100-Year-Old_Giant_Tortoise.json\n",
            "Article 10 uploaded successfully to s3://cus635-spring2025/TEAM_4/PROCESSED_Prepare_your_pets_for_warmer_weather_with_these_flea_tick_and_allergy_medications.json\n",
            "Article 11 uploaded successfully to s3://cus635-spring2025/TEAM_4/PROCESSED_Kennedy_tells_FDA_employees_that_the_Deep_State_is_real_report.json\n",
            "Article 12 uploaded successfully to s3://cus635-spring2025/TEAM_4/PROCESSED_Is_this_robot_after_our_hospitality_retail_and_healthcare_jobs.json\n",
            "Article 13 uploaded successfully to s3://cus635-spring2025/TEAM_4/PROCESSED_Coffee_creamer_health_risks_What_to_know_what_to_choose_instead.json\n",
            "Article 14 uploaded successfully to s3://cus635-spring2025/TEAM_4/PROCESSED_19-year-old_tradwife_influencer_goes_viral_for_being_a_stay-at-home_wife_defying_societal_norms.json\n",
            "Article 15 uploaded successfully to s3://cus635-spring2025/TEAM_4/PROCESSED_RFK_Jr._Accuses_FDA_of_Drug_Industry_Influence_That_Barred_Alternative_Remedies.json\n",
            "Article 16 uploaded successfully to s3://cus635-spring2025/TEAM_4/PROCESSED_Trump_RFK_Order_NIH_to_Study_Regret_Detransition_Among_Trans_Children_Adults.json\n",
            "Article 17 uploaded successfully to s3://cus635-spring2025/TEAM_4/PROCESSED_UnitedHealth_is_making_struggling_doctors_repay_loans_issued_after_last_years_cyberattack.json\n",
            "Article 18 uploaded successfully to s3://cus635-spring2025/TEAM_4/PROCESSED_Golfer_Phil_Mickelsons_strict_weight_loss_diet_Doctor_shares_what_to_know.json\n",
            "Article 19 uploaded successfully to s3://cus635-spring2025/TEAM_4/PROCESSED_Luigi_Mangiones_defense_files_motion_to_preclude_death_penalty_in_his_federal_case.json\n",
            "Article 20 uploaded successfully to s3://cus635-spring2025/TEAM_4/PROCESSED_Leavitt_Blasts_Reporters_for_Lack_of_Transparency_on_Biden_Competence.json\n",
            "Article 21 uploaded successfully to s3://cus635-spring2025/TEAM_4/PROCESSED_Luigi_Mangione_defense_asks_judge_to_block_death_penalty_in_CEO_murder_case.json\n",
            "Article 22 uploaded successfully to s3://cus635-spring2025/TEAM_4/PROCESSED_Alcohol_linked_to_brain_damage_for_heavy_drinkers_study_finds.json\n",
            "Article 23 uploaded successfully to s3://cus635-spring2025/TEAM_4/PROCESSED_Maine_referred_a_second_time_to_DOJ_for_refusing_to_ban_trans_athletes_from_girls_sports.json\n",
            "Article 24 uploaded successfully to s3://cus635-spring2025/TEAM_4/PROCESSED_Greys_Anatomy_Star_52_Has_Been_Diagnosed_with_Incurable_Terminal_Illness.json\n",
            "Article 25 uploaded successfully to s3://cus635-spring2025/TEAM_4/PROCESSED_Bidens_team_hid_the_truth_about_his_health_all_along_WH_press_sec.json\n",
            "Article 26 uploaded successfully to s3://cus635-spring2025/TEAM_4/PROCESSED_Experts_Doubt_Kennedys_Timetable_for_Finding_the_Cause_of_Autism.json\n",
            "Article 27 uploaded successfully to s3://cus635-spring2025/TEAM_4/PROCESSED_Trump_HHS_eliminates_office_that_sets_poverty_levels_tied_to_benefits_for_at_least_80_million_people.json\n",
            "Article 28 uploaded successfully to s3://cus635-spring2025/TEAM_4/PROCESSED_SCOOP_Republicans_demand_RFK_Jr_reverse_Biden-era_public_health_crisis_on_guns.json\n",
            "Article 29 uploaded successfully to s3://cus635-spring2025/TEAM_4/PROCESSED_Trump_will_undergo_his_annual_checkup._He_has_a_history_of_keeping_his_medical_details_secret.json\n",
            "Article 30 uploaded successfully to s3://cus635-spring2025/TEAM_4/PROCESSED_Maine_school_officials_address_refusal_to_ban_trans_athletes_from_girls_sports_amid_deadline_for_consequences.json\n",
            "Article 31 uploaded successfully to s3://cus635-spring2025/TEAM_4/PROCESSED_Trump_says_Congress_should_push_for_more_Daylight_at_the_end_of_a_day.json\n",
            "Article 32 uploaded successfully to s3://cus635-spring2025/TEAM_4/PROCESSED_Lawmakers_in_deep_blue_state_demand_audit_over_skyrocketing_healthcare_costs_Alarming_nature.json\n",
            "Article 33 uploaded successfully to s3://cus635-spring2025/TEAM_4/PROCESSED_Trump_to_undergo_his_annual_physical_on_Friday.json\n",
            "Article 34 uploaded successfully to s3://cus635-spring2025/TEAM_4/PROCESSED_Colorado_budget_cuts__including_hit_for_roads_loss_of_health_workers__cause_heartburn_as_lawmakers_close_gap.json\n",
            "Article 35 uploaded successfully to s3://cus635-spring2025/TEAM_4/PROCESSED_Stroke_dementia_and_depression_share_these_17_preventable_risk_factors.json\n",
            "Article 36 uploaded successfully to s3://cus635-spring2025/TEAM_4/PROCESSED_RFK_Jr._Tells_Trump_We_Will_Know_Whats_Caused_Massive_Autism_Outbreak_By_September.json\n",
            "Article 37 uploaded successfully to s3://cus635-spring2025/TEAM_4/PROCESSED_RFK_Jr._If_you_smoke_or_eat_donuts_should_society_pay_for_your_health_care.json\n",
            "Article 38 uploaded successfully to s3://cus635-spring2025/TEAM_4/PROCESSED_CDC_officials_start_planning_for_the_splintering_of_their_agency.json\n",
            "Article 39 uploaded successfully to s3://cus635-spring2025/TEAM_4/PROCESSED_FDA_reverses_course_on_telework_after_staff_reductions_threaten_basic_operations.json\n",
            "Article 40 uploaded successfully to s3://cus635-spring2025/TEAM_4/PROCESSED_Kennedy_says_HHS_will_determine_the_cause_of_autism_by_September.json\n",
            "Article 41 uploaded successfully to s3://cus635-spring2025/TEAM_4/PROCESSED_HHS_will_review_guidance_on_the_addition_of_fluoride_to_drinking_water.json\n",
            "Article 42 uploaded successfully to s3://cus635-spring2025/TEAM_4/PROCESSED_WATCH_RFK_Jr._orders_HHS_to_determine_the_cause_of_autism_by_September.json\n",
            "Article 43 uploaded successfully to s3://cus635-spring2025/TEAM_4/PROCESSED_Gabbard_says_RFK_MLK_Jr_records_ready_to_release_in_days_has_hunters_looking_at_FBI_CIA_for_more_files.json\n",
            "Article 44 uploaded successfully to s3://cus635-spring2025/TEAM_4/PROCESSED_Heres_another_sign_Musks_power_is_waning.json\n",
            "Article 45 uploaded successfully to s3://cus635-spring2025/TEAM_4/PROCESSED_CDC_faces_backlash_for_cutting_sickle_cell_adult_disability_programs.json\n",
            "Article 46 uploaded successfully to s3://cus635-spring2025/TEAM_4/PROCESSED_The_British_are_learning_to_love_cheap_overseas_health_care.json\n",
            "Article 47 uploaded successfully to s3://cus635-spring2025/TEAM_4/PROCESSED_Brits_are_learning_to_love_cheap_overseas_health_care.json\n",
            "Article 48 uploaded successfully to s3://cus635-spring2025/TEAM_4/PROCESSED_Retirement_could_be_bad_for_your_health_says_wellness_expert_Powered_by_purpose.json\n",
            "Article 49 uploaded successfully to s3://cus635-spring2025/TEAM_4/PROCESSED_Global_system_took_advantage_of_America_on_trade_and_defense._That_free_ride_is_over.json\n",
            "Article 50 uploaded successfully to s3://cus635-spring2025/TEAM_4/PROCESSED_Texas_man_who_allegedly_threatened_to_kill_ICE_agents_harm_DHS_Secretary_Kristi_Noem_ordered_to_stay_in_jail.json\n",
            "Article 51 uploaded successfully to s3://cus635-spring2025/TEAM_4/PROCESSED_RFK_Jr._Hits_His_Stride_in_Arizona_as_His_Chronic_Disease_Tour_Wraps.json\n",
            "Article 52 uploaded successfully to s3://cus635-spring2025/TEAM_4/PROCESSED_Multiple_nurses_working_on_the_same_floor_of_busy_hospital_develop_brain_tumors.json\n",
            "Article 53 uploaded successfully to s3://cus635-spring2025/TEAM_4/PROCESSED_Diabetes-dementia_link_plus_new_antibiotics_discovery.json\n",
            "Article 54 uploaded successfully to s3://cus635-spring2025/TEAM_4/PROCESSED_DOGE_ends_108_wasteful_contracts_including_for_an_executive_transformational_leadership_training_program.json\n",
            "Article 55 uploaded successfully to s3://cus635-spring2025/TEAM_4/PROCESSED_Senators_formally_introduce_bill_to_eliminate_Department_of_Education.json\n",
            "Article 56 uploaded successfully to s3://cus635-spring2025/TEAM_4/PROCESSED_Greene_and_Garcia_clash_over_RFK_Jr._and_vaccines_measles_outbreak.json\n",
            "Article 57 uploaded successfully to s3://cus635-spring2025/TEAM_4/PROCESSED_RFK_Jr._says_hes_not_familiar_with_all_health_program_cuts_in_exclusive_interview.json\n",
            "Article 58 uploaded successfully to s3://cus635-spring2025/TEAM_4/PROCESSED_Federal_judge_blocks_Biden_nursing_home_staffing_mandate.json\n",
            "Article 59 uploaded successfully to s3://cus635-spring2025/TEAM_4/PROCESSED_How_Trumps_immigration_policies_could_worsen_the_health_care_worker_shortage.json\n",
            "Article 60 uploaded successfully to s3://cus635-spring2025/TEAM_4/PROCESSED_Coal_miners_health_care_hit_hard_in_job_cuts_to_CDC.json\n",
            "Article 61 uploaded successfully to s3://cus635-spring2025/TEAM_4/PROCESSED_King_Charles_Queen_Camillas_unconventional_bedroom_arrangement_is_secret_sauce_to_staying_together_expert.json\n",
            "Article 62 uploaded successfully to s3://cus635-spring2025/TEAM_4/PROCESSED_Jarren_Duran_says_he_shared_story_of_suicide_attempt_to_help_others.json\n",
            "Article 63 uploaded successfully to s3://cus635-spring2025/TEAM_4/PROCESSED_Amid_Tension_Around_H.H.S._Cuts_Kennedy_Meets_With_Tribal_Leader.json\n",
            "Article 64 uploaded successfully to s3://cus635-spring2025/TEAM_4/PROCESSED_Ousted_FDA_vaccine_chief_says_U.S._measles_elimination_status_under_threat_as_cases_climb.json\n",
            "Article 65 uploaded successfully to s3://cus635-spring2025/TEAM_4/PROCESSED_Blue_city_proposes_bill_to_place_menstrual_products_in_mens_bathrooms.json\n",
            "Article 66 uploaded successfully to s3://cus635-spring2025/TEAM_4/PROCESSED_Colorado_Dems_are_poking_the_bear_by_defying_Trumps_orders_GOP_lawmaker_warns.json\n",
            "Article 67 uploaded successfully to s3://cus635-spring2025/TEAM_4/PROCESSED_What_will_it_take_to_get_measles_under_control.json\n",
            "Article 68 uploaded successfully to s3://cus635-spring2025/TEAM_4/PROCESSED_Diabetes_rewires_the_brain_in_surprising_way_study_finds.json\n",
            "Article 69 uploaded successfully to s3://cus635-spring2025/TEAM_4/PROCESSED_FDA_guts_division_that_trains_staff_and_health-care_professionals_on_key_practices_like_opioid_safety_avoiding_drug_errors.json\n",
            "Article 70 uploaded successfully to s3://cus635-spring2025/TEAM_4/PROCESSED_The_coal_miners_doctor_gets_fired_at_CDC.json\n",
            "Article 71 uploaded successfully to s3://cus635-spring2025/TEAM_4/PROCESSED_Employees_say_a_plan_to_reorganize_HHS_will_have_health_and_safety_consequences.json\n",
            "Article 72 uploaded successfully to s3://cus635-spring2025/TEAM_4/PROCESSED_Measles_infects_baby_in_Colorado_health_officials.json\n",
            "Article 73 uploaded successfully to s3://cus635-spring2025/TEAM_4/PROCESSED_Digital_health_startup_Transcarent_takes_Accolade_private_in_621_million_deal.json\n",
            "Article 74 uploaded successfully to s3://cus635-spring2025/TEAM_4/PROCESSED_Gutting_Medicaid_to_Cut_Taxes_Is_the_GOPs_Problem_From_Hell.json\n",
            "Article 75 uploaded successfully to s3://cus635-spring2025/TEAM_4/PROCESSED_Fox_News_Entertainment_Newsletter_Gilligans_Island_stars_troubled_childhood_Bill_Murray_snaps_at_man.json\n",
            "Article 76 uploaded successfully to s3://cus635-spring2025/TEAM_4/PROCESSED_Meghan_Markle_suffered_huge_medical_scare_privately_after_giving_birth.json\n",
            "Article 77 uploaded successfully to s3://cus635-spring2025/TEAM_4/PROCESSED_Trump_against_the_world_our_immigration_asylum_disaster_and_more_from_Fox_News_Opinion.json\n",
            "Article 78 uploaded successfully to s3://cus635-spring2025/TEAM_4/PROCESSED_Federal_judge_sides_with_pro-life_pregnancy_centers_finds_part_of_Illinois_abortion_law_unconstitutional.json\n",
            "Article 79 uploaded successfully to s3://cus635-spring2025/TEAM_4/PROCESSED_JD_Vance_celebrates_mothers_major_health_milestone_I_am_so_proud_of_you.json\n",
            "Article 80 uploaded successfully to s3://cus635-spring2025/TEAM_4/PROCESSED_Low-carb_keto_diet_may_not_raise_heart_disease_risk_new_study_suggests.json\n",
            "Article 81 uploaded successfully to s3://cus635-spring2025/TEAM_4/PROCESSED_Democrats_Had_a_Messaging_Problem._Trump_Just_Solved_It_for_Them..json\n",
            "Article 82 uploaded successfully to s3://cus635-spring2025/TEAM_4/PROCESSED_RFK_Jr._plans_to_direct_CDC_to_stop_recommending_fluoride_in_water.json\n",
            "Article 83 uploaded successfully to s3://cus635-spring2025/TEAM_4/PROCESSED_John_Stamos_defends_Mar-a-Lago_appearance_after_backlash_says_supporting_frontline_heroes_isnt_political.json\n",
            "Article 84 uploaded successfully to s3://cus635-spring2025/TEAM_4/PROCESSED_Trump_plans_to_have_annual_physical_exam_later_this_week_Never_felt_better.json\n",
            "Article 85 uploaded successfully to s3://cus635-spring2025/TEAM_4/PROCESSED_RFK_Jr._says_he_plans_to_tell_CDC_to_stop_recommending_fluoride_in_drinking_water.json\n",
            "Article 86 uploaded successfully to s3://cus635-spring2025/TEAM_4/PROCESSED_Health_secretary_RFK_Jr._endorses_the_MMR_vaccine__stoking_fury_among_his_supporters.json\n",
            "Article 87 uploaded successfully to s3://cus635-spring2025/TEAM_4/PROCESSED_Red_Sox_star_Jarren_Duran_opens_up_about_trying_to_take_his_own_life_I_didnt_even_want_to_be_here_anymore.json\n",
            "Article 88 uploaded successfully to s3://cus635-spring2025/TEAM_4/PROCESSED_Charlie_Sheens_ex_Denise_Richards_admits_she_lied_to_their_kids_to_hide_stars_scandalous_behavior.json\n",
            "Article 89 uploaded successfully to s3://cus635-spring2025/TEAM_4/PROCESSED_Common_supplement_could_help_you_live_longer_research_suggests.json\n",
            "Article 90 uploaded successfully to s3://cus635-spring2025/TEAM_4/PROCESSED_SCOTUS_turns_down_chance_to_hear_gun_case_over_New_Yorks_sensitive_locations_firearms_ban.json\n",
            "Article 91 uploaded successfully to s3://cus635-spring2025/TEAM_4/PROCESSED_RFK_Jr._Plugs_Measles_Vaccine_Along_With_Dubious_Treatments.json\n",
            "Article 92 uploaded successfully to s3://cus635-spring2025/TEAM_4/PROCESSED_Hantavirus_cause_of_Gene_Hackmans_wifes_death_kills_three_in_California.json\n",
            "Article 93 uploaded successfully to s3://cus635-spring2025/TEAM_4/PROCESSED_Transfer_to_Alaska_Offer_to_health_leaders_called_insult_to_Indian_Health_Service.json\n",
            "Article 94 uploaded successfully to s3://cus635-spring2025/TEAM_4/PROCESSED_Putin_congratulates_Alex_Ovechkin_after_breaking_NHL_record.json\n",
            "Article 95 uploaded successfully to s3://cus635-spring2025/TEAM_4/PROCESSED_Jena_Griswold_announces_run_for_Colorado_attorney_general.json\n",
            "Article 96 uploaded successfully to s3://cus635-spring2025/TEAM_4/PROCESSED_Second_child_dies_from_measles_in_Texas_as_outbreak_spreads.json\n",
            "Article 97 uploaded successfully to s3://cus635-spring2025/TEAM_4/PROCESSED_Crunchy_conservatives_want_to_Make_America_Healthy_Again.json\n",
            "Article 98 uploaded successfully to s3://cus635-spring2025/TEAM_4/PROCESSED_RFK_Jr_makes_Texas_stop_to_visit_family_of_6-year-old_measles_victim_push_MMR_vaccine.json\n",
            "Article 99 uploaded successfully to s3://cus635-spring2025/TEAM_4/PROCESSED_RFK_Jr._visits_epicenter_of_Texas_measles_outbreak_after_second_child_who_was_infected_dies.json\n",
            "Article 100 uploaded successfully to s3://cus635-spring2025/TEAM_4/PROCESSED_Kennedy_announces_support_for_measles_vaccine_amid_outbreak.json\n",
            "Article 101 uploaded successfully to s3://cus635-spring2025/TEAM_4/PROCESSED_Duck_Dynasty_star_Phil_Robertsons_family_gives_tough_health_update_following_Alzheimers_diagnosis.json\n",
            "Article 102 uploaded successfully to s3://cus635-spring2025/TEAM_4/PROCESSED_Israeli_strikes_on_Gaza_kill_at_least_32_mostly_women_and_children.json\n",
            "Article 103 uploaded successfully to s3://cus635-spring2025/TEAM_4/PROCESSED_Brooks__Dunn_lead_singer_walks_off_stage_during_encore_leaving_fans_concerned_for_his_health.json\n",
            "Article 104 uploaded successfully to s3://cus635-spring2025/TEAM_4/PROCESSED_RFK_Jr._visits_epicenter_of_Texas_measles_outbreak_after_death_of_second_child.json\n",
            "Article 105 uploaded successfully to s3://cus635-spring2025/TEAM_4/PROCESSED_Hamas_terror_outlet_quietly_cuts_Gaza_death_count_reveals_most_killed_were_combat-age_men.json\n",
            "Article 106 uploaded successfully to s3://cus635-spring2025/TEAM_4/PROCESSED_Pope_appears_in_St._Peters_Square_for_first_time_in_weeks.json\n",
            "Article 107 uploaded successfully to s3://cus635-spring2025/TEAM_4/PROCESSED_Pope_in_Surprise_Appearance_at_St._Peters_Square_2_Weeks_After_Hospital_Discharge.json\n",
            "Article 108 uploaded successfully to s3://cus635-spring2025/TEAM_4/PROCESSED_Rare_virus_that_killed_Hackmans_wife_linked_to_3_deaths_in_Calif._town.json\n",
            "Article 109 uploaded successfully to s3://cus635-spring2025/TEAM_4/PROCESSED_Cant_stop_clearing_your_throat_A_doctor_explains_why__and_how_to_fix_it.json\n",
            "Article 110 uploaded successfully to s3://cus635-spring2025/TEAM_4/PROCESSED_Will_Extreme_Spending_and_Partisanship_Undermine_Trust_in_State_Supreme_Courts.json\n",
            "Article 111 uploaded successfully to s3://cus635-spring2025/TEAM_4/PROCESSED_Second_child_with_measles_has_died_in_Texas_officials_say.json\n",
            "Article 112 uploaded successfully to s3://cus635-spring2025/TEAM_4/PROCESSED_Scoop_RFK_Jr._plans_Texas_trip_after_possible_second_measles-related_death_there.json\n",
            "Article 113 uploaded successfully to s3://cus635-spring2025/TEAM_4/PROCESSED_Severus_detects_somatic_structural_variation_and_complex_rearrangements_in_cancer_genomes_using_long-read_sequencing.json\n",
            "Article 114 uploaded successfully to s3://cus635-spring2025/TEAM_4/PROCESSED_The_Phase_III_Study_Data_of_Stapokibart_for_Seasonal_Allergic_Rhinitis_Published_in_Nature_Medicine.json\n",
            "Article 115 uploaded successfully to s3://cus635-spring2025/TEAM_4/PROCESSED_Elton_John_says_he_cant_see_sons_play_sports_or_read_after_vision_loss_from_eye_infection.json\n",
            "Article 116 uploaded successfully to s3://cus635-spring2025/TEAM_4/PROCESSED_Why_men_are_so_unhealthy_-_and_what_can_be_done.json\n",
            "Article 117 uploaded successfully to s3://cus635-spring2025/TEAM_4/PROCESSED_Young_men_turn_to_private_healthcare_for_prostate_cancer_screening.json\n",
            "Article 118 uploaded successfully to s3://cus635-spring2025/TEAM_4/PROCESSED_Rocky_star_Dolph_Lundgren_wife_Emma_Krokdal_soak_up_Miami_sun_after_actors_years-long_health_battle.json\n",
            "Article 119 uploaded successfully to s3://cus635-spring2025/TEAM_4/PROCESSED_Increasing_sleepiness_linked_to_dementia_risk_in_women_study_finds.json\n",
            "Article 120 uploaded successfully to s3://cus635-spring2025/TEAM_4/PROCESSED_What_happens_to_your_brain_when_you_retire_Heres_why_planning_ahead_can_keep_your_mind_sharp.json\n",
            "Article 121 uploaded successfully to s3://cus635-spring2025/TEAM_4/PROCESSED_Brain_Song_Review_the_BDNF_Memory_Protein_Brain_Trick_For_Stronger_Brain_Health_Support.json\n",
            "Article 122 uploaded successfully to s3://cus635-spring2025/TEAM_4/PROCESSED_NHS_trusts_hand_Tony_Blairs_tech_pal_Larry_Ellison_1.5bn_contract.json\n",
            "Article 123 uploaded successfully to s3://cus635-spring2025/TEAM_4/PROCESSED_Texas_AG_says_hes_investigating_Kelloggs_over_healthy_cereal_claims.json\n",
            "Article 124 uploaded successfully to s3://cus635-spring2025/TEAM_4/PROCESSED_Pelvic_Floor_Strong_Best_Exercise_Program_to_Strengthen_the_Pelvic_Floor_for_Women.json\n",
            "Article 125 uploaded successfully to s3://cus635-spring2025/TEAM_4/PROCESSED_Office_of_Minority_Health_Targeted_as_RFK_Jr._Drives_Deep_Cuts_Across_CMS.json\n",
            "Article 126 uploaded successfully to s3://cus635-spring2025/TEAM_4/PROCESSED_Psychiatric_genetics_in_the_diverse_landscape_of_Latin_American_populations.json\n",
            "Article 127 uploaded successfully to s3://cus635-spring2025/TEAM_4/PROCESSED_Layoffs_threaten_U.S._firefighter_cancer_registry_mine_research_and_mask_lab.json\n",
            "Article 128 uploaded successfully to s3://cus635-spring2025/TEAM_4/PROCESSED_NiteHush_Pro_Introducing_NiteHush_Pro_as_the_7-Second_Chew_Hack_for_Snoring_and_Sleep_Apnea_Relief.json\n",
            "Article 129 uploaded successfully to s3://cus635-spring2025/TEAM_4/PROCESSED_Death_toll_from_earthquake_in_Myanmar_hits_3354_amid_health_housing_crisis_-_UPI.com.json\n",
            "Article 130 uploaded successfully to s3://cus635-spring2025/TEAM_4/PROCESSED_The_Views_Ana_Navarro_Goes_Hardcore_I_Would_Prefer_Joe_Biden_In_a_Coma_Over_Trump.json\n",
            "Article 131 uploaded successfully to s3://cus635-spring2025/TEAM_4/PROCESSED_Prime_Biome_Debuts_Skin-Gut_Cell_Turnover_Breakthrough_with_Essential_Probiotics.json\n",
            "Article 132 uploaded successfully to s3://cus635-spring2025/TEAM_4/PROCESSED_World_Health_Day_2025_Funding_Calls_to_Tackle_Global_Health_Challenges_-_fundsforNGOs.json\n",
            "Article 133 uploaded successfully to s3://cus635-spring2025/TEAM_4/PROCESSED_Breathe_Lung_Drops_-_The_Special_Liver_Reset_Recipe_Everyone_is_Talking_About.json\n",
            "Article 134 uploaded successfully to s3://cus635-spring2025/TEAM_4/PROCESSED_I_went_out_with_a_lot_of_gay_men._I_even_married_one_Ruby_Wax.json\n",
            "Article 135 uploaded successfully to s3://cus635-spring2025/TEAM_4/PROCESSED_Palm_Beach_Health_Network_Celebrate_Physicians_on_National_Doctors39_Day.json\n",
            "Article 136 uploaded successfully to s3://cus635-spring2025/TEAM_4/PROCESSED_Nerve_Freedom_Latest_Consumer_Report_Details_New_Health_Research.json\n",
            "Article 137 uploaded successfully to s3://cus635-spring2025/TEAM_4/PROCESSED_This_mucus-loving_gut_bacterium_is_important_for_healthheres_how_to_keep_it_happy.json\n",
            "Article 138 uploaded successfully to s3://cus635-spring2025/TEAM_4/PROCESSED_Exposure_to_wildfire_smoke_linked_with_worsening_mental_health_conditions.json\n",
            "Article 139 uploaded successfully to s3://cus635-spring2025/TEAM_4/PROCESSED_Scientists_find_age-related_links_between_beverage_choices_and_mental_health_risks.json\n",
            "Article 140 uploaded successfully to s3://cus635-spring2025/TEAM_4/PROCESSED_VivoGut_Getting_to_Know_the_Ancient_Underwater_Digestive_Solution_For_Gut_Health.json\n",
            "Article 141 uploaded successfully to s3://cus635-spring2025/TEAM_4/PROCESSED_Mental_ill-health_is_losing_its_stigma_but_its_still_used_to_blame_victims_of_abuse.json\n",
            "Article 142 uploaded successfully to s3://cus635-spring2025/TEAM_4/PROCESSED_Robert_F_Kennedy_Jrs_proposal_to_remove_public_commentary_from_US_health_policy_is_a_threat_to_science_and_public_health.json\n",
            "Article 143 uploaded successfully to s3://cus635-spring2025/TEAM_4/PROCESSED_Trumps_10_000_job_cuts_spark_chaos_in_US_health_services.json\n",
            "Article 144 uploaded successfully to s3://cus635-spring2025/TEAM_4/PROCESSED_Changes_to_the_disability_benefits_system_need_to_prioritise_evidence_over_short_term_cost_savings.json\n",
            "Article 145 uploaded successfully to s3://cus635-spring2025/TEAM_4/PROCESSED_Hands_Off_Anti-Trump_Protests_Try_to_Reach_the_Newly_Alarmed.json\n",
            "Article 146 uploaded successfully to s3://cus635-spring2025/TEAM_4/PROCESSED_The_Purple_Peel_Hack_is_Buzzing_in_the_Health_Community_Is_Mitolyns_Maqui_Berry_Worthy_for_Wellness.json\n",
            "Article 147 uploaded successfully to s3://cus635-spring2025/TEAM_4/PROCESSED_Hershey_makes_major_strategic_move_to_destroy_rivals.json\n",
            "Article 148 uploaded successfully to s3://cus635-spring2025/TEAM_4/PROCESSED_Oz_Were_Going_to_Get_Money_CA_Spends_on_Health_Care_for_Illegals_Back.json\n",
            "Article 149 uploaded successfully to s3://cus635-spring2025/TEAM_4/PROCESSED_Anti-Trump_protests_planned_across_the_nation_including_downtown_Los_Angeles.json\n",
            "Article 150 uploaded successfully to s3://cus635-spring2025/TEAM_4/PROCESSED_Gen_Z_and_young_millennials_battling_negative_wealth_as_debt_burden_grows.json\n"
          ]
        }
      ],
      "source": [
        "import re\n",
        "\n",
        "def upload_article_to_s3(articles, bucket_name, team_folder):\n",
        "  for index, article in enumerate(articles):\n",
        "    title = article.get(\"title\", f\"article_{index + 1}\")\n",
        "    file_name= re.sub(r\"[^\\w\\s.-]\", \"\", title)\n",
        "    file_name = file_name.replace(\" \", \"_\")\n",
        "    object_key = f\"{team_folder}{file_name}.json\"\n",
        "    try:\n",
        "        s3.put_object(\n",
        "            Body=json.dumps(article),\n",
        "            Bucket=bucket_name,\n",
        "            Key=object_key,\n",
        "            ContentType='application/json'\n",
        "        )\n",
        "        print(f\"Article {index + 1} uploaded successfully to s3://{bucket_name}/{object_key}\")\n",
        "    except Exception as e:\n",
        "        print(f\"Error uploading article {index + 1}: {e}\")\n",
        "\n",
        "upload_article_to_s3(processed_data, BUCKET_NAME, TEAM)"
      ]
    },
    {
      "cell_type": "markdown",
      "metadata": {
        "id": "mpbdmJpKcNVh"
      },
      "source": [
        "# Clearing Team Folder\n",
        "The `clear_s3_folder` function removes all files from the team folder.\n",
        "\n",
        "**Parameters**\n",
        "\n",
        "*   `bucket_name` : name of the S3 bucket\n",
        "*   `folder_path` : name of the team folder\n",
        "\n",
        "**Challenges & Outcomes**\n",
        "As an anonymous user, we are not allowed to delete any files from the S3 bucket. Thus, there might be duplicate articles from our last attempt to upload the articles to the S3 bucket.\n"
      ]
    },
    {
      "cell_type": "code",
      "execution_count": null,
      "metadata": {
        "id": "XFczANHae-9j"
      },
      "outputs": [],
      "source": [
        "def clear_s3_folder(bucket_name, folder_path):\n",
        "  response = s3.list_objects_v2(Bucket=bucket_name, Prefix=folder_path)['Contents']\n",
        "\n",
        "  try:\n",
        "    objects = s3.list_objects_v2(Bucket=bucket_name, Prefix=folder_path)['Contents']\n",
        "    for obj in objects:\n",
        "      s3.delete_object(Bucket=bucket_name, Key=obj['Key'])\n",
        "      print(f\"Deleted {obj['Key']}\")\n",
        "\n",
        "    print(f\"Cleared folder: s3://{bucket_name}/{folder_path}\")\n",
        "  except KeyError:\n",
        "    print(f\"Folder '{folder_path}' is empty or does not exist.\")\n",
        "  except Exception as e:\n",
        "    print(f\"Error clearing folder: {e}\")\n",
        "\n",
        "clear_s3_folder(BUCKET_NAME, TEAM)"
      ]
    },
    {
      "cell_type": "markdown",
      "metadata": {
        "id": "vMbqeSrRiGGR"
      },
      "source": [
        "# List Files Stored in Team Folder"
      ]
    },
    {
      "cell_type": "code",
      "execution_count": null,
      "metadata": {
        "collapsed": true,
        "id": "0CFSUmH5bqrC"
      },
      "outputs": [],
      "source": [
        "response = s3.list_objects_v2(Bucket=BUCKET_NAME)\n",
        "if \"Contents\" in response:\n",
        "    print(\"Files in S3 Bucket:\")\n",
        "    for obj in response[\"Contents\"]:\n",
        "        print(f\" - {obj['Key']}\")\n",
        "else:\n",
        "    print(\"No files found in the bucket.\")"
      ]
    },
    {
      "cell_type": "code",
      "source": [
        "!pip install pinecone\n"
      ],
      "metadata": {
        "id": "Ld4UQFCTuLXZ"
      },
      "execution_count": null,
      "outputs": []
    },
    {
      "cell_type": "code",
      "source": [
        "!pip install openai"
      ],
      "metadata": {
        "id": "LsdY9g_Q96Da"
      },
      "execution_count": null,
      "outputs": []
    },
    {
      "cell_type": "code",
      "source": [
        "!pip install mistralai"
      ],
      "metadata": {
        "colab": {
          "base_uri": "https://localhost:8080/"
        },
        "id": "mJlg_VDiSw9X",
        "outputId": "b8e564d3-ab51-496c-eeda-047240ce2c71"
      },
      "execution_count": 44,
      "outputs": [
        {
          "output_type": "stream",
          "name": "stdout",
          "text": [
            "Collecting mistralai\n",
            "  Downloading mistralai-1.6.0-py3-none-any.whl.metadata (30 kB)\n",
            "Collecting eval-type-backport>=0.2.0 (from mistralai)\n",
            "  Downloading eval_type_backport-0.2.2-py3-none-any.whl.metadata (2.2 kB)\n",
            "Requirement already satisfied: httpx>=0.28.1 in /usr/local/lib/python3.11/dist-packages (from mistralai) (0.28.1)\n",
            "Requirement already satisfied: pydantic>=2.10.3 in /usr/local/lib/python3.11/dist-packages (from mistralai) (2.11.2)\n",
            "Requirement already satisfied: python-dateutil>=2.8.2 in /usr/local/lib/python3.11/dist-packages (from mistralai) (2.8.2)\n",
            "Requirement already satisfied: typing-inspection>=0.4.0 in /usr/local/lib/python3.11/dist-packages (from mistralai) (0.4.0)\n",
            "Requirement already satisfied: anyio in /usr/local/lib/python3.11/dist-packages (from httpx>=0.28.1->mistralai) (4.9.0)\n",
            "Requirement already satisfied: certifi in /usr/local/lib/python3.11/dist-packages (from httpx>=0.28.1->mistralai) (2025.1.31)\n",
            "Requirement already satisfied: httpcore==1.* in /usr/local/lib/python3.11/dist-packages (from httpx>=0.28.1->mistralai) (1.0.7)\n",
            "Requirement already satisfied: idna in /usr/local/lib/python3.11/dist-packages (from httpx>=0.28.1->mistralai) (3.10)\n",
            "Requirement already satisfied: h11<0.15,>=0.13 in /usr/local/lib/python3.11/dist-packages (from httpcore==1.*->httpx>=0.28.1->mistralai) (0.14.0)\n",
            "Requirement already satisfied: annotated-types>=0.6.0 in /usr/local/lib/python3.11/dist-packages (from pydantic>=2.10.3->mistralai) (0.7.0)\n",
            "Requirement already satisfied: pydantic-core==2.33.1 in /usr/local/lib/python3.11/dist-packages (from pydantic>=2.10.3->mistralai) (2.33.1)\n",
            "Requirement already satisfied: typing-extensions>=4.12.2 in /usr/local/lib/python3.11/dist-packages (from pydantic>=2.10.3->mistralai) (4.13.1)\n",
            "Requirement already satisfied: six>=1.5 in /usr/local/lib/python3.11/dist-packages (from python-dateutil>=2.8.2->mistralai) (1.17.0)\n",
            "Requirement already satisfied: sniffio>=1.1 in /usr/local/lib/python3.11/dist-packages (from anyio->httpx>=0.28.1->mistralai) (1.3.1)\n",
            "Downloading mistralai-1.6.0-py3-none-any.whl (288 kB)\n",
            "\u001b[2K   \u001b[90m━━━━━━━━━━━━━━━━━━━━━━━━━━━━━━━━━━━━━━━━\u001b[0m \u001b[32m288.7/288.7 kB\u001b[0m \u001b[31m6.0 MB/s\u001b[0m eta \u001b[36m0:00:00\u001b[0m\n",
            "\u001b[?25hDownloading eval_type_backport-0.2.2-py3-none-any.whl (5.8 kB)\n",
            "Installing collected packages: eval-type-backport, mistralai\n",
            "Successfully installed eval-type-backport-0.2.2 mistralai-1.6.0\n"
          ]
        }
      ]
    },
    {
      "cell_type": "code",
      "source": [
        "pip install sentence-transformers"
      ],
      "metadata": {
        "colab": {
          "base_uri": "https://localhost:8080/"
        },
        "id": "zz9zMMXTVoiH",
        "outputId": "1d46b407-ece1-4dd7-a523-afbae6ba0b2e"
      },
      "execution_count": 48,
      "outputs": [
        {
          "output_type": "stream",
          "name": "stdout",
          "text": [
            "Requirement already satisfied: sentence-transformers in /usr/local/lib/python3.11/dist-packages (3.4.1)\n",
            "Requirement already satisfied: transformers<5.0.0,>=4.41.0 in /usr/local/lib/python3.11/dist-packages (from sentence-transformers) (4.50.3)\n",
            "Requirement already satisfied: tqdm in /usr/local/lib/python3.11/dist-packages (from sentence-transformers) (4.67.1)\n",
            "Requirement already satisfied: torch>=1.11.0 in /usr/local/lib/python3.11/dist-packages (from sentence-transformers) (2.6.0+cu124)\n",
            "Requirement already satisfied: scikit-learn in /usr/local/lib/python3.11/dist-packages (from sentence-transformers) (1.6.1)\n",
            "Requirement already satisfied: scipy in /usr/local/lib/python3.11/dist-packages (from sentence-transformers) (1.14.1)\n",
            "Requirement already satisfied: huggingface-hub>=0.20.0 in /usr/local/lib/python3.11/dist-packages (from sentence-transformers) (0.30.1)\n",
            "Requirement already satisfied: Pillow in /usr/local/lib/python3.11/dist-packages (from sentence-transformers) (11.1.0)\n",
            "Requirement already satisfied: filelock in /usr/local/lib/python3.11/dist-packages (from huggingface-hub>=0.20.0->sentence-transformers) (3.18.0)\n",
            "Requirement already satisfied: fsspec>=2023.5.0 in /usr/local/lib/python3.11/dist-packages (from huggingface-hub>=0.20.0->sentence-transformers) (2025.3.2)\n",
            "Requirement already satisfied: packaging>=20.9 in /usr/local/lib/python3.11/dist-packages (from huggingface-hub>=0.20.0->sentence-transformers) (24.2)\n",
            "Requirement already satisfied: pyyaml>=5.1 in /usr/local/lib/python3.11/dist-packages (from huggingface-hub>=0.20.0->sentence-transformers) (6.0.2)\n",
            "Requirement already satisfied: requests in /usr/local/lib/python3.11/dist-packages (from huggingface-hub>=0.20.0->sentence-transformers) (2.32.3)\n",
            "Requirement already satisfied: typing-extensions>=3.7.4.3 in /usr/local/lib/python3.11/dist-packages (from huggingface-hub>=0.20.0->sentence-transformers) (4.13.1)\n",
            "Requirement already satisfied: networkx in /usr/local/lib/python3.11/dist-packages (from torch>=1.11.0->sentence-transformers) (3.4.2)\n",
            "Requirement already satisfied: jinja2 in /usr/local/lib/python3.11/dist-packages (from torch>=1.11.0->sentence-transformers) (3.1.6)\n",
            "Requirement already satisfied: nvidia-cuda-nvrtc-cu12==12.4.127 in /usr/local/lib/python3.11/dist-packages (from torch>=1.11.0->sentence-transformers) (12.4.127)\n",
            "Requirement already satisfied: nvidia-cuda-runtime-cu12==12.4.127 in /usr/local/lib/python3.11/dist-packages (from torch>=1.11.0->sentence-transformers) (12.4.127)\n",
            "Requirement already satisfied: nvidia-cuda-cupti-cu12==12.4.127 in /usr/local/lib/python3.11/dist-packages (from torch>=1.11.0->sentence-transformers) (12.4.127)\n",
            "Requirement already satisfied: nvidia-cudnn-cu12==9.1.0.70 in /usr/local/lib/python3.11/dist-packages (from torch>=1.11.0->sentence-transformers) (9.1.0.70)\n",
            "Requirement already satisfied: nvidia-cublas-cu12==12.4.5.8 in /usr/local/lib/python3.11/dist-packages (from torch>=1.11.0->sentence-transformers) (12.4.5.8)\n",
            "Requirement already satisfied: nvidia-cufft-cu12==11.2.1.3 in /usr/local/lib/python3.11/dist-packages (from torch>=1.11.0->sentence-transformers) (11.2.1.3)\n",
            "Requirement already satisfied: nvidia-curand-cu12==10.3.5.147 in /usr/local/lib/python3.11/dist-packages (from torch>=1.11.0->sentence-transformers) (10.3.5.147)\n",
            "Requirement already satisfied: nvidia-cusolver-cu12==11.6.1.9 in /usr/local/lib/python3.11/dist-packages (from torch>=1.11.0->sentence-transformers) (11.6.1.9)\n",
            "Requirement already satisfied: nvidia-cusparse-cu12==12.3.1.170 in /usr/local/lib/python3.11/dist-packages (from torch>=1.11.0->sentence-transformers) (12.3.1.170)\n",
            "Requirement already satisfied: nvidia-cusparselt-cu12==0.6.2 in /usr/local/lib/python3.11/dist-packages (from torch>=1.11.0->sentence-transformers) (0.6.2)\n",
            "Requirement already satisfied: nvidia-nccl-cu12==2.21.5 in /usr/local/lib/python3.11/dist-packages (from torch>=1.11.0->sentence-transformers) (2.21.5)\n",
            "Requirement already satisfied: nvidia-nvtx-cu12==12.4.127 in /usr/local/lib/python3.11/dist-packages (from torch>=1.11.0->sentence-transformers) (12.4.127)\n",
            "Requirement already satisfied: nvidia-nvjitlink-cu12==12.4.127 in /usr/local/lib/python3.11/dist-packages (from torch>=1.11.0->sentence-transformers) (12.4.127)\n",
            "Requirement already satisfied: triton==3.2.0 in /usr/local/lib/python3.11/dist-packages (from torch>=1.11.0->sentence-transformers) (3.2.0)\n",
            "Requirement already satisfied: sympy==1.13.1 in /usr/local/lib/python3.11/dist-packages (from torch>=1.11.0->sentence-transformers) (1.13.1)\n",
            "Requirement already satisfied: mpmath<1.4,>=1.1.0 in /usr/local/lib/python3.11/dist-packages (from sympy==1.13.1->torch>=1.11.0->sentence-transformers) (1.3.0)\n",
            "Requirement already satisfied: numpy>=1.17 in /usr/local/lib/python3.11/dist-packages (from transformers<5.0.0,>=4.41.0->sentence-transformers) (2.0.2)\n",
            "Requirement already satisfied: regex!=2019.12.17 in /usr/local/lib/python3.11/dist-packages (from transformers<5.0.0,>=4.41.0->sentence-transformers) (2024.11.6)\n",
            "Requirement already satisfied: tokenizers<0.22,>=0.21 in /usr/local/lib/python3.11/dist-packages (from transformers<5.0.0,>=4.41.0->sentence-transformers) (0.21.1)\n",
            "Requirement already satisfied: safetensors>=0.4.3 in /usr/local/lib/python3.11/dist-packages (from transformers<5.0.0,>=4.41.0->sentence-transformers) (0.5.3)\n",
            "Requirement already satisfied: joblib>=1.2.0 in /usr/local/lib/python3.11/dist-packages (from scikit-learn->sentence-transformers) (1.4.2)\n",
            "Requirement already satisfied: threadpoolctl>=3.1.0 in /usr/local/lib/python3.11/dist-packages (from scikit-learn->sentence-transformers) (3.6.0)\n",
            "Requirement already satisfied: MarkupSafe>=2.0 in /usr/local/lib/python3.11/dist-packages (from jinja2->torch>=1.11.0->sentence-transformers) (3.0.2)\n",
            "Requirement already satisfied: charset-normalizer<4,>=2 in /usr/local/lib/python3.11/dist-packages (from requests->huggingface-hub>=0.20.0->sentence-transformers) (3.4.1)\n",
            "Requirement already satisfied: idna<4,>=2.5 in /usr/local/lib/python3.11/dist-packages (from requests->huggingface-hub>=0.20.0->sentence-transformers) (3.10)\n",
            "Requirement already satisfied: urllib3<3,>=1.21.1 in /usr/local/lib/python3.11/dist-packages (from requests->huggingface-hub>=0.20.0->sentence-transformers) (2.3.0)\n",
            "Requirement already satisfied: certifi>=2017.4.17 in /usr/local/lib/python3.11/dist-packages (from requests->huggingface-hub>=0.20.0->sentence-transformers) (2025.1.31)\n"
          ]
        }
      ]
    },
    {
      "cell_type": "code",
      "source": [
        "from pinecone import Pinecone\n",
        "import openai\n",
        "from sentence_transformers import SentenceTransformer\n",
        "\n",
        "\n",
        "pc = Pinecone(api_key=userdata.get(\"PINECONE_KEY\"))\n",
        "\n",
        "model = SentenceTransformer(\"sentence-transformers/stsb-bert-large\")\n",
        "\n",
        "\n",
        "#finding host name\n",
        "index_id = userdata.get(\"INDEX_ID\")\n",
        "indexes = pc.list_indexes()\n",
        "for idx in indexes:\n",
        "    if idx['name'] == index_id:\n",
        "        print(f\"Host for index {index_id}: {idx['host']}\")\n",
        "        index = pc.Index(host=idx['host'])\n",
        "\n",
        "index = pc.Index(host=userdata.get(\"INDEX_HOST\"))\n",
        "\n",
        "def get_articles_from_s3(bucket, prefix):\n",
        "    response = s3.list_objects_v2(Bucket=bucket, Prefix=prefix)\n",
        "    articles = []\n",
        "    for obj in response.get('Contents', []):\n",
        "        if obj['Key'].endswith('.json'):\n",
        "            file_data = s3.get_object(Bucket=bucket, Key=obj['Key'])['Body'].read()\n",
        "            article = json.loads(file_data)\n",
        "            articles.append(article)\n",
        "    return articles\n",
        "\n",
        "def get_embedding(text):\n",
        "    if not text:\n",
        "        return []\n",
        "    embedding = model.encode(text)\n",
        "    return embedding.tolist()\n",
        "\n",
        "def upsert_to_pinecone(index, articles, namespace=\"team-4\"):\n",
        "    records = []\n",
        "    for i, article in enumerate(articles):\n",
        "        text = article.get(\"description\", \"\")\n",
        "        if not text:\n",
        "            continue\n",
        "        embedding = get_embedding(text)\n",
        "        record = {\n",
        "            \"id\": f\"article_{i}\",\n",
        "            \"values\": embedding,\n",
        "            \"metadata\": {\n",
        "                \"chunk_text\": text,\n",
        "                \"team\": \"Team 4\",\n",
        "                \"category\": \"Policies\",\n",
        "                \"title\": article.get(\"title\", \"\"),\n",
        "                \"published\": article.get(\"published\", \"\"),\n",
        "                \"url\": article.get(\"url\", \"\")\n",
        "            }\n",
        "        }\n",
        "        records.append(record)\n",
        "\n",
        "    for i in range(0, len(records), 100):\n",
        "        batch = records[i:i+100]\n",
        "        index.upsert(vectors=batch, namespace=namespace)\n",
        "        print(f\"Upserted batch {i//100 + 1} of {len(records)} vectors\")\n",
        "\n",
        "articles = get_articles_from_s3(BUCKET_NAME, TEAM)\n",
        "upsert_to_pinecone(index, articles)\n"
      ],
      "metadata": {
        "colab": {
          "base_uri": "https://localhost:8080/"
        },
        "id": "2nyRJwa3tWb1",
        "outputId": "a13c0e3e-710d-4ede-c672-513b7291ad0b"
      },
      "execution_count": 50,
      "outputs": [
        {
          "output_type": "stream",
          "name": "stdout",
          "text": [
            "Host for index cus635: cus635-g311jqa.svc.aped-4627-b74a.pinecone.io\n",
            "Upserted batch 1 of 450 vectors\n",
            "Upserted batch 2 of 450 vectors\n",
            "Upserted batch 3 of 450 vectors\n",
            "Upserted batch 4 of 450 vectors\n",
            "Upserted batch 5 of 450 vectors\n"
          ]
        }
      ]
    },
    {
      "cell_type": "code",
      "source": [],
      "metadata": {
        "colab": {
          "base_uri": "https://localhost:8080/"
        },
        "id": "py_WBlg8bARf",
        "outputId": "0b9b812e-62cd-479c-8817-cbdaef659f9b"
      },
      "execution_count": 52,
      "outputs": [
        {
          "output_type": "stream",
          "name": "stdout",
          "text": [
            "{\n",
            "  \"namespaces\": {\n",
            "    \"\": {\n",
            "      \"vector_count\": 122\n",
            "    },\n",
            "    \"team-4\": {\n",
            "      \"vector_count\": 450\n",
            "    }\n",
            "  },\n",
            "  \"index_fullness\": 0.0,\n",
            "  \"total_vector_count\": 572,\n",
            "  \"dimension\": 1024,\n",
            "  \"metric\": \"cosine\",\n",
            "  \"vector_type\": \"dense\"\n",
            "}\n"
          ]
        }
      ]
    }
  ],
  "metadata": {
    "colab": {
      "provenance": [],
      "include_colab_link": true
    },
    "kernelspec": {
      "display_name": "Python 3",
      "name": "python3"
    },
    "language_info": {
      "name": "python"
    }
  },
  "nbformat": 4,
  "nbformat_minor": 0
}