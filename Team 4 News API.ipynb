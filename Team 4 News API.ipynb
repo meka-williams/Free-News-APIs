{
  "cells": [
    {
      "cell_type": "code",
      "execution_count": 1,
      "metadata": {
        "id": "V57iSnGIyQ1T"
      },
      "outputs": [],
      "source": [
        "import requests\n",
        "import json\n",
        "import os\n",
        "from openai import OpenAI\n",
        "from google.colab import userdata\n",
        "import pprint\n",
        "\n",
        "os.environ['OPENAI_API_KEY'] = userdata.get('OPENAI_API_KEY')\n",
        "news_key = userdata.get('NEWS_API_KEY')\n",
        "\n",
        "client = OpenAI()"
      ]
    }
  ],
  "metadata": {
    "language_info": {
      "name": "python"
    },
    "colab": {
      "provenance": []
    },
    "kernelspec": {
      "name": "python3",
      "display_name": "Python 3"
    }
  },
  "nbformat": 4,
  "nbformat_minor": 0
}